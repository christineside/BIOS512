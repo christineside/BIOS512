{
 "cells": [
  {
   "cell_type": "markdown",
   "id": "45ef956f",
   "metadata": {},
   "source": [
    "# Homework 03 - Nonstandard Evaluation and Git\n",
    "\n",
    "## Nonstandard Evaluation\n"
   ]
  },
  {
   "cell_type": "markdown",
   "id": "7cd69759",
   "metadata": {
    "vscode": {
     "languageId": "r"
    }
   },
   "source": [
    "### Question 1\n",
    "Imagine we have a data frame called `data`, with a `type` column. Which one works and why?\\\n",
    "Function 1:\n",
    "```\n",
    "group_and_tally <- function(df, column){\n",
    "    df %>% group_by({{ column }}) %>% tally();\n",
    "}\n",
    "group_and_tally(data, type);\n",
    "```\n",
    "\n",
    "Function 2:\n",
    "```\n",
    "group_and_tally <- function(df, column){\n",
    "    df %>% group_by(column) %>% tally();\n",
    "}\n",
    "group_and_tally(data, type);\n",
    "```"
   ]
  },
  {
   "cell_type": "markdown",
   "id": "1b2ee75e-4977-473f-9f3d-a099c6508e19",
   "metadata": {},
   "source": [
    "## Answer\n",
    "\n",
    "Function 1. The embrace \"{{}}\" is a construct that allows the value contained between then to be defined when calling the function.\n"
   ]
  },
  {
   "cell_type": "markdown",
   "id": "d0653501",
   "metadata": {},
   "source": [
    "## Git\n",
    "For the questions below, please add the commands you used to complete these steps.\n",
    "\n",
    "### Question 2\n",
    "Set up your git repo on your local computer. If you already make a git repo on GitHub, but it isn’t on your local computer - clone it."
   ]
  },
  {
   "cell_type": "code",
   "execution_count": null,
   "id": "053cc55b-8cc8-4b62-bdb3-4647bb8dc94d",
   "metadata": {},
   "outputs": [],
   "source": [
    "cd C:\\Users\\CSIDE\\OneDrive\\Documents\\GitHub\\BIOS512\n",
    "git init"
   ]
  },
  {
   "cell_type": "markdown",
   "id": "9639ba6c",
   "metadata": {
    "vscode": {
     "languageId": "shellscript"
    }
   },
   "source": [
    "### Question 3\n",
    "Set up your SSH key."
   ]
  },
  {
   "cell_type": "code",
   "execution_count": null,
   "id": "08211069-5306-4102-a587-eee90a9802fe",
   "metadata": {},
   "outputs": [],
   "source": [
    "mkdir ssh-keys   ## Makes a directory titled \"ssh-keys\"\n",
    "cd ssh-keys/     ## Sets the current directory to \"ssh-keys\"\n",
    "ssh-keygen       ## Generates an SSH key"
   ]
  },
  {
   "cell_type": "markdown",
   "id": "bcd83789",
   "metadata": {},
   "source": [
    "### Question 4\n",
    "a) Add a HW2 directory to your git repo through the terminal with a HW.md file that says \"This is for homework 2.\"\n"
   ]
  },
  {
   "cell_type": "code",
   "execution_count": null,
   "id": "1a4edab1-1c84-46b0-8b2c-f93eae79a738",
   "metadata": {},
   "outputs": [],
   "source": [
    "## Answer\n",
    "mkdir HW2    ## Makes a directory titled \"HW2\"\n",
    "cd HW2       ## Sets the current directory to \"HW2\"\n",
    "echo \"This is for homework 2.\" > HW2.md     ##silmultaneous creates HW2.md and adds the string \"This is for homework 2.\" to the file\n"
   ]
  },
  {
   "cell_type": "markdown",
   "id": "0a600019",
   "metadata": {},
   "source": [
    "b) *Add* HW2.md to the staging area. Then, use the command to see which files have been modified, staged for commit, or are untracked. What does it show?\n",
    "They should copy paste the terminal response after git status, and show that key used the commands below."
   ]
  },
  {
   "cell_type": "code",
   "execution_count": null,
   "id": "da64fb69-d325-4585-bd33-bb31407803b8",
   "metadata": {},
   "outputs": [],
   "source": [
    "## Answer\n",
    "git add HW2.md     ## adds HW2.md to the staging area\n",
    "warning: in the working copy of 'HW2/HW2.md', LF will be replaced by CRLF the next time Git touches it     ##output\n",
    "\n",
    "git status                   ## checks the status of the files\n",
    "On branch main               ## output start\n",
    "\n",
    "No commits yet\n",
    "\n",
    "Changes to be committed:\n",
    "  (use \"git rm --cached <file>...\" to unstage)\n",
    "        new file:   HW2.md\n",
    "\n",
    "Untracked files:\n",
    "  (use \"git add <file>...\" to include in what will be committed)\n",
    "        ../HEAD\n",
    "        ../config\n",
    "        ../description\n",
    "        ../hooks/\n",
    "        ../info/              ##output end"
   ]
  },
  {
   "cell_type": "markdown",
   "id": "51a1c8a9",
   "metadata": {},
   "source": [
    "c) Save file changes to the main branch."
   ]
  },
  {
   "cell_type": "code",
   "execution_count": null,
   "id": "d7e274a5-fb9c-40a6-a227-5160e86d49b8",
   "metadata": {},
   "outputs": [],
   "source": [
    "git commit -m \"Initial commit for Question 4c\""
   ]
  },
  {
   "cell_type": "markdown",
   "id": "7ab5dd9a",
   "metadata": {},
   "source": [
    "d) Now, edit the HW2.md file to give it a title."
   ]
  },
  {
   "cell_type": "code",
   "execution_count": null,
   "id": "23d2d439-ca78-4d2f-83f6-75ebdee71b57",
   "metadata": {},
   "outputs": [],
   "source": [
    "echo \"# This is a title.\" > HW2.md          ## rewrites the file \"HW2\" with the string \"This is the title\"\n",
    "echo \"\" >> HW2.md                           ## adds a blank line after the title\n",
    "echo \"This is for homework 2.\" >> HW2.md    ## adds the string \"This is for homework 2.\" beneath the blank line"
   ]
  },
  {
   "cell_type": "markdown",
   "id": "13945704-553f-4f26-8171-48fa1d5148e1",
   "metadata": {},
   "source": [
    "e) Use the command that compares current, unsaved changes to the main branch. What does it say?"
   ]
  },
  {
   "cell_type": "code",
   "execution_count": null,
   "id": "8ef1a769-dff6-477a-820c-d1839a8cf3ab",
   "metadata": {},
   "outputs": [],
   "source": [
    "git diff main                            ## comparing changes to the main branch\n",
    "diff --git a/HW2/HW2.md b/HW2/HW2.md     ## output start\n",
    "index 1a010d3..ebe102e 100644\n",
    "--- a/HW2/HW2.md\n",
    "+++ b/HW2/HW2.md\n",
    "@@ -1 +1,3 @@\n",
    "-This is for homework 2.\n",
    "+\"# This is a title.\"\n",
    "+\"\"\n",
    "+\"This is for homework 2.\"               ## output end"
   ]
  },
  {
   "cell_type": "markdown",
   "id": "1e6d2cdb-2dda-42b3-8c04-d682418f0689",
   "metadata": {},
   "source": [
    "f) Use the command that checks the status of the working directory and the staging area *again*. What does it say?"
   ]
  },
  {
   "cell_type": "code",
   "execution_count": null,
   "id": "20dae501-4fc7-4869-b10a-f49e93f2995a",
   "metadata": {},
   "outputs": [],
   "source": [
    "git status           ## checks status\n",
    "On branch main       ## output start\n",
    "Changes not staged for commit:\n",
    "  (use \"git add <file>...\" to update what will be committed)\n",
    "  (use \"git restore <file>...\" to discard changes in working directory)\n",
    "        modified:   HW2.md\n",
    "\n",
    "Untracked files:\n",
    "  (use \"git add <file>...\" to include in what will be committed)\n",
    "        ../HEAD\n",
    "        HW2\n",
    "        ../config\n",
    "        ../description\n",
    "        ../hooks/\n",
    "        ../info/\n",
    "\n",
    "no changes added to commit (use \"git add\" and/or \"git commit -a\")   ## output end"
   ]
  },
  {
   "cell_type": "markdown",
   "id": "c652d492-38ba-4401-94e4-72fb0c5e2ab0",
   "metadata": {},
   "source": [
    "g) Once again, add HW2.md to the staging area and save the file changes to the main branch. Then, get use the command that gives you project history and paste the output in your homework."
   ]
  },
  {
   "cell_type": "code",
   "execution_count": null,
   "id": "6a544506-4102-42f8-aa59-cbb5a770ce4a",
   "metadata": {},
   "outputs": [],
   "source": [
    "git add HW2.md                                       ## adds homework to the staging area\n",
    "git commit -m \"Second commit for question 4g\"        ## commits the changes with the comment \"Second commit for question 4g\"\n",
    "git log                                              ## returns the project history\n",
    "commit b06cb3e0f4876edd4ba104959a458b6c782538f9 (HEAD -> main)   ## output start\n",
    "Author: christineside <cside814@gmail.com>\n",
    "Date:   Thu Sep 11 16:48:40 2025 -0400\n",
    "\n",
    "    Second commit for question 4g\n",
    "\n",
    "commit 922a8837fcad449d39ccba10beea2a3e2457e642\n",
    "Author: christineside <cside814@gmail.com>\n",
    "Date:   Thu Sep 11 10:48:04 2025 -0400\n",
    "\n",
    "    Initial commit for Question 4c                               ## output end"
   ]
  },
  {
   "cell_type": "markdown",
   "id": "a19411e1",
   "metadata": {},
   "source": [
    "h) Do some searching... What `git` command will provide you documentation on other commands? Use that command to find documentation on `git log` and `git show`. What does `--since` mean in regards to `git log`? Copy and paste what is written in the documentation."
   ]
  },
  {
   "cell_type": "code",
   "execution_count": null,
   "id": "cef842d7-6e87-40e4-b2b0-52f5f6192b7a",
   "metadata": {},
   "outputs": [],
   "source": [
    "## git help is the command that provides further documentation. Adding a specific command at the end allows you to search for that command.\n",
    "git help show   ## opens an .html file with information on the command git show\n",
    "git help log    ## opens an .html file with information on the command git log\n",
    "Using more options generally further limits the output (e.g. --since=<date1> limits to commits newer than <date1>, and using it with --grep=<pattern> further limits to commits whose log message has a line that matches <pattern>), unless otherwise noted.\n",
    "\n"
   ]
  },
  {
   "cell_type": "markdown",
   "id": "ba302ef2",
   "metadata": {},
   "source": [
    "## Tidyverse\n",
    "\n",
    "Note: Please make sure Binder is set up correctly to run this section. You can follow the instructions here: https://github.com/rjenki/BIOS512. "
   ]
  },
  {
   "cell_type": "markdown",
   "id": "78255223",
   "metadata": {},
   "source": [
    "**Please show your code for this section!** Before completing this section, please run the following."
   ]
  },
  {
   "cell_type": "code",
   "execution_count": 8,
   "id": "1f1bd613",
   "metadata": {
    "vscode": {
     "languageId": "r"
    }
   },
   "outputs": [],
   "source": [
    "library(tidyverse)\n",
    "if (!dir.exists(\"intermediate\")) dir.create(\"intermediate\", recursive = TRUE)\n",
    "if (!exists(\"mdpre\")) mdpre <- function(x) { print(x) }\n",
    "if (!exists(\"ggmd\"))  ggmd  <- function(p) { print(p) }"
   ]
  },
  {
   "cell_type": "code",
   "execution_count": null,
   "id": "ed96a6a7-ad10-4954-8185-c7df1cb37bb9",
   "metadata": {},
   "outputs": [],
   "source": []
  },
  {
   "cell_type": "markdown",
   "id": "7a5eb54a",
   "metadata": {},
   "source": [
    "### Question 5\n",
    "\n",
    "Download the patient_names.csv and patient_properties.csv files from Canvas and read them into R. Manually set the date columns to be date variables. Print the first 10 observations of each."
   ]
  },
  {
   "cell_type": "code",
   "execution_count": 4,
   "id": "4d95abef-b7ca-4d93-84f0-441629a07ade",
   "metadata": {},
   "outputs": [
    {
     "name": "stderr",
     "output_type": "stream",
     "text": [
      "\u001b[1mRows: \u001b[22m\u001b[34m974\u001b[39m \u001b[1mColumns: \u001b[22m\u001b[34m7\u001b[39m\n",
      "\u001b[36m──\u001b[39m \u001b[1mColumn specification\u001b[22m \u001b[36m────────────────────────────────────────────────────────────────────────────────────────────────\u001b[39m\n",
      "\u001b[1mDelimiter:\u001b[22m \",\"\n",
      "\u001b[31mchr\u001b[39m (7): ID, BIRTHDATE, DEATHDATE, FIRST, LAST, CITY, STATE\n",
      "\n",
      "\u001b[36mℹ\u001b[39m Use `spec()` to retrieve the full column specification for this data.\n",
      "\u001b[36mℹ\u001b[39m Specify the column types or set `show_col_types = FALSE` to quiet this message.\n",
      "\u001b[1mRows: \u001b[22m\u001b[34m3896\u001b[39m \u001b[1mColumns: \u001b[22m\u001b[34m3\u001b[39m\n",
      "\u001b[36m──\u001b[39m \u001b[1mColumn specification\u001b[22m \u001b[36m────────────────────────────────────────────────────────────────────────────────────────────────\u001b[39m\n",
      "\u001b[1mDelimiter:\u001b[22m \",\"\n",
      "\u001b[31mchr\u001b[39m (3): ID, property, value\n",
      "\n",
      "\u001b[36mℹ\u001b[39m Use `spec()` to retrieve the full column specification for this data.\n",
      "\u001b[36mℹ\u001b[39m Specify the column types or set `show_col_types = FALSE` to quiet this message.\n"
     ]
    },
    {
     "data": {
      "text/html": [
       "<style>\n",
       ".list-inline {list-style: none; margin:0; padding: 0}\n",
       ".list-inline>li {display: inline-block}\n",
       ".list-inline>li:not(:last-child)::after {content: \"\\00b7\"; padding: 0 .5ex}\n",
       "</style>\n",
       "<ol class=list-inline><li>'3/19/77'</li><li>'2/19/40'</li><li>'6/4/58'</li><li>'12/25/28'</li><li>'12/25/28'</li><li>'12/25/28'</li><li>'11/8/57'</li><li>'6/27/72'</li><li>'3/6/54'</li><li>'7/10/27'</li></ol>\n"
      ],
      "text/latex": [
       "\\begin{enumerate*}\n",
       "\\item '3/19/77'\n",
       "\\item '2/19/40'\n",
       "\\item '6/4/58'\n",
       "\\item '12/25/28'\n",
       "\\item '12/25/28'\n",
       "\\item '12/25/28'\n",
       "\\item '11/8/57'\n",
       "\\item '6/27/72'\n",
       "\\item '3/6/54'\n",
       "\\item '7/10/27'\n",
       "\\end{enumerate*}\n"
      ],
      "text/markdown": [
       "1. '3/19/77'\n",
       "2. '2/19/40'\n",
       "3. '6/4/58'\n",
       "4. '12/25/28'\n",
       "5. '12/25/28'\n",
       "6. '12/25/28'\n",
       "7. '11/8/57'\n",
       "8. '6/27/72'\n",
       "9. '3/6/54'\n",
       "10. '7/10/27'\n",
       "\n",
       "\n"
      ],
      "text/plain": [
       " [1] \"3/19/77\"  \"2/19/40\"  \"6/4/58\"   \"12/25/28\" \"12/25/28\" \"12/25/28\"\n",
       " [7] \"11/8/57\"  \"6/27/72\"  \"3/6/54\"   \"7/10/27\" "
      ]
     },
     "metadata": {},
     "output_type": "display_data"
    },
    {
     "data": {
      "text/html": [
       "<style>\n",
       ".list-inline {list-style: none; margin:0; padding: 0}\n",
       ".list-inline>li {display: inline-block}\n",
       ".list-inline>li:not(:last-child)::after {content: \"\\00b7\"; padding: 0 .5ex}\n",
       "</style>\n",
       "<ol class=list-inline><li>NA</li><li>NA</li><li>NA</li><li>'9/29/17'</li><li>'2/23/14'</li><li>NA</li><li>NA</li><li>NA</li><li>NA</li><li>NA</li></ol>\n"
      ],
      "text/latex": [
       "\\begin{enumerate*}\n",
       "\\item NA\n",
       "\\item NA\n",
       "\\item NA\n",
       "\\item '9/29/17'\n",
       "\\item '2/23/14'\n",
       "\\item NA\n",
       "\\item NA\n",
       "\\item NA\n",
       "\\item NA\n",
       "\\item NA\n",
       "\\end{enumerate*}\n"
      ],
      "text/markdown": [
       "1. NA\n",
       "2. NA\n",
       "3. NA\n",
       "4. '9/29/17'\n",
       "5. '2/23/14'\n",
       "6. NA\n",
       "7. NA\n",
       "8. NA\n",
       "9. NA\n",
       "10. NA\n",
       "\n",
       "\n"
      ],
      "text/plain": [
       " [1] NA        NA        NA        \"9/29/17\" \"2/23/14\" NA        NA       \n",
       " [8] NA        NA        NA       "
      ]
     },
     "metadata": {},
     "output_type": "display_data"
    }
   ],
   "source": [
    "df_names <- read_csv(\"patient_names.csv\")              ## reads the csv \"patient_names.csv\" and assigns the data to the data frame \"df_names\".\n",
    "df_prop <- read_csv(\"patient_properties.csv\")          ## reads the csv \"patient_properties.csv\" and assigns the data to the data frame \"df_prop\". \n",
    "\n",
    "birthdate_var <- df_names$BIRTHDATE                    ## sets the birthdate column to a variable called \"birthdate_var\"\n",
    "deathdate_var <- df_names$DEATHDATE                    ## sets the deathdate column to a variable called \"deathdate_var\"\n",
    "\n",
    "head(birthdate_var, 10)                                ## prints the first 10 observations in birthdate_var\n",
    "head(deathdate_var, 10)                                ## prints the first 10 observations in deathdate_var"
   ]
  },
  {
   "cell_type": "markdown",
   "id": "cc6f646b",
   "metadata": {},
   "source": [
    "### Question 6\n",
    "In the data frame pulled from patient_properties, you'll notice that the data is long, not wide. Do a pivot to make the properties their own columns. Print the first 10 observations after you do so."
   ]
  },
  {
   "cell_type": "code",
   "execution_count": 5,
   "id": "7952a938-0453-4c32-b9c3-039ba873ae11",
   "metadata": {},
   "outputs": [
    {
     "data": {
      "text/html": [
       "<table class=\"dataframe\">\n",
       "<caption>A tibble: 10 × 5</caption>\n",
       "<thead>\n",
       "\t<tr><th scope=col>ID</th><th scope=col>MARITAL</th><th scope=col>RACE</th><th scope=col>ETHNICITY</th><th scope=col>GENDER</th></tr>\n",
       "\t<tr><th scope=col>&lt;chr&gt;</th><th scope=col>&lt;chr&gt;</th><th scope=col>&lt;chr&gt;</th><th scope=col>&lt;chr&gt;</th><th scope=col>&lt;chr&gt;</th></tr>\n",
       "</thead>\n",
       "<tbody>\n",
       "\t<tr><td>5605b66b-e92d-c16c-1b83-b8bf7040d51f</td><td>M</td><td>white </td><td>nonhispanic</td><td>F</td></tr>\n",
       "\t<tr><td>6e5ae27c-8038-7988-e2c0-25a103f01bfa</td><td>M</td><td>white </td><td>nonhispanic</td><td>M</td></tr>\n",
       "\t<tr><td>8123d076-0886-9007-e956-d5864aa121a7</td><td>M</td><td>white </td><td>nonhispanic</td><td>M</td></tr>\n",
       "\t<tr><td>770518e4-6133-648e-60c9-071eb2f0e2ce</td><td>M</td><td>white </td><td>hispanic   </td><td>M</td></tr>\n",
       "\t<tr><td>f96addf5-81b9-0aab-7855-d208d3d352c5</td><td>M</td><td>white </td><td>hispanic   </td><td>M</td></tr>\n",
       "\t<tr><td>8e9650d1-788a-78f9-4a28-d08f7f95354a</td><td>M</td><td>white </td><td>hispanic   </td><td>M</td></tr>\n",
       "\t<tr><td>183df435-4190-060e-8f8e-bf63c572b266</td><td>M</td><td>asian </td><td>nonhispanic</td><td>F</td></tr>\n",
       "\t<tr><td>720560d4-51da-c38c-ee90-c15935278df1</td><td>M</td><td>white </td><td>nonhispanic</td><td>M</td></tr>\n",
       "\t<tr><td>217851b0-5f47-d376-18b9-0fe4ba77207e</td><td>S</td><td>black </td><td>hispanic   </td><td>M</td></tr>\n",
       "\t<tr><td>ff331e5c-ab16-e218-f39a-63e11de1ed75</td><td>M</td><td>native</td><td>hispanic   </td><td>M</td></tr>\n",
       "</tbody>\n",
       "</table>\n"
      ],
      "text/latex": [
       "A tibble: 10 × 5\n",
       "\\begin{tabular}{lllll}\n",
       " ID & MARITAL & RACE & ETHNICITY & GENDER\\\\\n",
       " <chr> & <chr> & <chr> & <chr> & <chr>\\\\\n",
       "\\hline\n",
       "\t 5605b66b-e92d-c16c-1b83-b8bf7040d51f & M & white  & nonhispanic & F\\\\\n",
       "\t 6e5ae27c-8038-7988-e2c0-25a103f01bfa & M & white  & nonhispanic & M\\\\\n",
       "\t 8123d076-0886-9007-e956-d5864aa121a7 & M & white  & nonhispanic & M\\\\\n",
       "\t 770518e4-6133-648e-60c9-071eb2f0e2ce & M & white  & hispanic    & M\\\\\n",
       "\t f96addf5-81b9-0aab-7855-d208d3d352c5 & M & white  & hispanic    & M\\\\\n",
       "\t 8e9650d1-788a-78f9-4a28-d08f7f95354a & M & white  & hispanic    & M\\\\\n",
       "\t 183df435-4190-060e-8f8e-bf63c572b266 & M & asian  & nonhispanic & F\\\\\n",
       "\t 720560d4-51da-c38c-ee90-c15935278df1 & M & white  & nonhispanic & M\\\\\n",
       "\t 217851b0-5f47-d376-18b9-0fe4ba77207e & S & black  & hispanic    & M\\\\\n",
       "\t ff331e5c-ab16-e218-f39a-63e11de1ed75 & M & native & hispanic    & M\\\\\n",
       "\\end{tabular}\n"
      ],
      "text/markdown": [
       "\n",
       "A tibble: 10 × 5\n",
       "\n",
       "| ID &lt;chr&gt; | MARITAL &lt;chr&gt; | RACE &lt;chr&gt; | ETHNICITY &lt;chr&gt; | GENDER &lt;chr&gt; |\n",
       "|---|---|---|---|---|\n",
       "| 5605b66b-e92d-c16c-1b83-b8bf7040d51f | M | white  | nonhispanic | F |\n",
       "| 6e5ae27c-8038-7988-e2c0-25a103f01bfa | M | white  | nonhispanic | M |\n",
       "| 8123d076-0886-9007-e956-d5864aa121a7 | M | white  | nonhispanic | M |\n",
       "| 770518e4-6133-648e-60c9-071eb2f0e2ce | M | white  | hispanic    | M |\n",
       "| f96addf5-81b9-0aab-7855-d208d3d352c5 | M | white  | hispanic    | M |\n",
       "| 8e9650d1-788a-78f9-4a28-d08f7f95354a | M | white  | hispanic    | M |\n",
       "| 183df435-4190-060e-8f8e-bf63c572b266 | M | asian  | nonhispanic | F |\n",
       "| 720560d4-51da-c38c-ee90-c15935278df1 | M | white  | nonhispanic | M |\n",
       "| 217851b0-5f47-d376-18b9-0fe4ba77207e | S | black  | hispanic    | M |\n",
       "| ff331e5c-ab16-e218-f39a-63e11de1ed75 | M | native | hispanic    | M |\n",
       "\n"
      ],
      "text/plain": [
       "   ID                                   MARITAL RACE   ETHNICITY   GENDER\n",
       "1  5605b66b-e92d-c16c-1b83-b8bf7040d51f M       white  nonhispanic F     \n",
       "2  6e5ae27c-8038-7988-e2c0-25a103f01bfa M       white  nonhispanic M     \n",
       "3  8123d076-0886-9007-e956-d5864aa121a7 M       white  nonhispanic M     \n",
       "4  770518e4-6133-648e-60c9-071eb2f0e2ce M       white  hispanic    M     \n",
       "5  f96addf5-81b9-0aab-7855-d208d3d352c5 M       white  hispanic    M     \n",
       "6  8e9650d1-788a-78f9-4a28-d08f7f95354a M       white  hispanic    M     \n",
       "7  183df435-4190-060e-8f8e-bf63c572b266 M       asian  nonhispanic F     \n",
       "8  720560d4-51da-c38c-ee90-c15935278df1 M       white  nonhispanic M     \n",
       "9  217851b0-5f47-d376-18b9-0fe4ba77207e S       black  hispanic    M     \n",
       "10 ff331e5c-ab16-e218-f39a-63e11de1ed75 M       native hispanic    M     "
      ]
     },
     "metadata": {},
     "output_type": "display_data"
    }
   ],
   "source": [
    "df_prop_wide <- df_prop %>%                                   ## assigns the following changes to a new data frame called \"df_prop_wide\"\n",
    "    pivot_wider(names_from = property, values_from = value)   ## makes the property colum from df_prop column titles, and the value columm\n",
    "                                                              ##      as the values under those new columns.\n",
    "head(df_prop_wide, 10)                                        ## prints the first 10 observations from df_prop_wide"
   ]
  },
  {
   "cell_type": "markdown",
   "id": "dffb85c3",
   "metadata": {},
   "source": [
    "### Question 7\n",
    "Perform a left join of the names and properties_wide data frames by the ID column and print the first 10 rows."
   ]
  },
  {
   "cell_type": "code",
   "execution_count": 6,
   "id": "26de9bd7-a1b4-4ad7-a3d6-f2ff363c3c23",
   "metadata": {},
   "outputs": [
    {
     "data": {
      "text/html": [
       "<table class=\"dataframe\">\n",
       "<caption>A tibble: 10 × 11</caption>\n",
       "<thead>\n",
       "\t<tr><th scope=col>ID</th><th scope=col>BIRTHDATE</th><th scope=col>DEATHDATE</th><th scope=col>FIRST</th><th scope=col>LAST</th><th scope=col>CITY</th><th scope=col>STATE</th><th scope=col>MARITAL</th><th scope=col>RACE</th><th scope=col>ETHNICITY</th><th scope=col>GENDER</th></tr>\n",
       "\t<tr><th scope=col>&lt;chr&gt;</th><th scope=col>&lt;chr&gt;</th><th scope=col>&lt;chr&gt;</th><th scope=col>&lt;chr&gt;</th><th scope=col>&lt;chr&gt;</th><th scope=col>&lt;chr&gt;</th><th scope=col>&lt;chr&gt;</th><th scope=col>&lt;chr&gt;</th><th scope=col>&lt;chr&gt;</th><th scope=col>&lt;chr&gt;</th><th scope=col>&lt;chr&gt;</th></tr>\n",
       "</thead>\n",
       "<tbody>\n",
       "\t<tr><td>5605b66b-e92d-c16c-1b83-b8bf7040d51f</td><td>3/19/77 </td><td>NA     </td><td>Nikita578 </td><td>Erdman779     </td><td>Quincy   </td><td>Massachusetts</td><td>M</td><td>white </td><td>nonhispanic</td><td>F</td></tr>\n",
       "\t<tr><td>6e5ae27c-8038-7988-e2c0-25a103f01bfa</td><td>2/19/40 </td><td>NA     </td><td>Zane918   </td><td>Hodkiewicz467 </td><td>Boston   </td><td>Massachusetts</td><td>M</td><td>white </td><td>nonhispanic</td><td>M</td></tr>\n",
       "\t<tr><td>8123d076-0886-9007-e956-d5864aa121a7</td><td>6/4/58  </td><td>NA     </td><td>Quinn173  </td><td>Marquardt819  </td><td>Quincy   </td><td>Massachusetts</td><td>M</td><td>white </td><td>nonhispanic</td><td>M</td></tr>\n",
       "\t<tr><td>770518e4-6133-648e-60c9-071eb2f0e2ce</td><td>12/25/28</td><td>9/29/17</td><td>Abel832   </td><td>Smitham825    </td><td>Boston   </td><td>Massachusetts</td><td>M</td><td>white </td><td>hispanic   </td><td>M</td></tr>\n",
       "\t<tr><td>f96addf5-81b9-0aab-7855-d208d3d352c5</td><td>12/25/28</td><td>2/23/14</td><td>Edwin773  </td><td>Labadie908    </td><td>Boston   </td><td>Massachusetts</td><td>M</td><td>white </td><td>hispanic   </td><td>M</td></tr>\n",
       "\t<tr><td>8e9650d1-788a-78f9-4a28-d08f7f95354a</td><td>12/25/28</td><td>NA     </td><td>Frankie174</td><td>Oberbrunner298</td><td>Boston   </td><td>Massachusetts</td><td>M</td><td>white </td><td>hispanic   </td><td>M</td></tr>\n",
       "\t<tr><td>183df435-4190-060e-8f8e-bf63c572b266</td><td>11/8/57 </td><td>NA     </td><td>Eilene124 </td><td>Walsh511      </td><td>Cambridge</td><td>Massachusetts</td><td>M</td><td>asian </td><td>nonhispanic</td><td>F</td></tr>\n",
       "\t<tr><td>720560d4-51da-c38c-ee90-c15935278df1</td><td>6/27/72 </td><td>NA     </td><td>Lowell343 </td><td>Price929      </td><td>Quincy   </td><td>Massachusetts</td><td>M</td><td>white </td><td>nonhispanic</td><td>M</td></tr>\n",
       "\t<tr><td>217851b0-5f47-d376-18b9-0fe4ba77207e</td><td>3/6/54  </td><td>NA     </td><td>Adrian111 </td><td>Gleason633    </td><td>Boston   </td><td>Massachusetts</td><td>S</td><td>black </td><td>hispanic   </td><td>M</td></tr>\n",
       "\t<tr><td>ff331e5c-ab16-e218-f39a-63e11de1ed75</td><td>7/10/27 </td><td>NA     </td><td>Eugene421 </td><td>Abernathy524  </td><td>Boston   </td><td>Massachusetts</td><td>M</td><td>native</td><td>hispanic   </td><td>M</td></tr>\n",
       "</tbody>\n",
       "</table>\n"
      ],
      "text/latex": [
       "A tibble: 10 × 11\n",
       "\\begin{tabular}{lllllllllll}\n",
       " ID & BIRTHDATE & DEATHDATE & FIRST & LAST & CITY & STATE & MARITAL & RACE & ETHNICITY & GENDER\\\\\n",
       " <chr> & <chr> & <chr> & <chr> & <chr> & <chr> & <chr> & <chr> & <chr> & <chr> & <chr>\\\\\n",
       "\\hline\n",
       "\t 5605b66b-e92d-c16c-1b83-b8bf7040d51f & 3/19/77  & NA      & Nikita578  & Erdman779      & Quincy    & Massachusetts & M & white  & nonhispanic & F\\\\\n",
       "\t 6e5ae27c-8038-7988-e2c0-25a103f01bfa & 2/19/40  & NA      & Zane918    & Hodkiewicz467  & Boston    & Massachusetts & M & white  & nonhispanic & M\\\\\n",
       "\t 8123d076-0886-9007-e956-d5864aa121a7 & 6/4/58   & NA      & Quinn173   & Marquardt819   & Quincy    & Massachusetts & M & white  & nonhispanic & M\\\\\n",
       "\t 770518e4-6133-648e-60c9-071eb2f0e2ce & 12/25/28 & 9/29/17 & Abel832    & Smitham825     & Boston    & Massachusetts & M & white  & hispanic    & M\\\\\n",
       "\t f96addf5-81b9-0aab-7855-d208d3d352c5 & 12/25/28 & 2/23/14 & Edwin773   & Labadie908     & Boston    & Massachusetts & M & white  & hispanic    & M\\\\\n",
       "\t 8e9650d1-788a-78f9-4a28-d08f7f95354a & 12/25/28 & NA      & Frankie174 & Oberbrunner298 & Boston    & Massachusetts & M & white  & hispanic    & M\\\\\n",
       "\t 183df435-4190-060e-8f8e-bf63c572b266 & 11/8/57  & NA      & Eilene124  & Walsh511       & Cambridge & Massachusetts & M & asian  & nonhispanic & F\\\\\n",
       "\t 720560d4-51da-c38c-ee90-c15935278df1 & 6/27/72  & NA      & Lowell343  & Price929       & Quincy    & Massachusetts & M & white  & nonhispanic & M\\\\\n",
       "\t 217851b0-5f47-d376-18b9-0fe4ba77207e & 3/6/54   & NA      & Adrian111  & Gleason633     & Boston    & Massachusetts & S & black  & hispanic    & M\\\\\n",
       "\t ff331e5c-ab16-e218-f39a-63e11de1ed75 & 7/10/27  & NA      & Eugene421  & Abernathy524   & Boston    & Massachusetts & M & native & hispanic    & M\\\\\n",
       "\\end{tabular}\n"
      ],
      "text/markdown": [
       "\n",
       "A tibble: 10 × 11\n",
       "\n",
       "| ID &lt;chr&gt; | BIRTHDATE &lt;chr&gt; | DEATHDATE &lt;chr&gt; | FIRST &lt;chr&gt; | LAST &lt;chr&gt; | CITY &lt;chr&gt; | STATE &lt;chr&gt; | MARITAL &lt;chr&gt; | RACE &lt;chr&gt; | ETHNICITY &lt;chr&gt; | GENDER &lt;chr&gt; |\n",
       "|---|---|---|---|---|---|---|---|---|---|---|\n",
       "| 5605b66b-e92d-c16c-1b83-b8bf7040d51f | 3/19/77  | NA      | Nikita578  | Erdman779      | Quincy    | Massachusetts | M | white  | nonhispanic | F |\n",
       "| 6e5ae27c-8038-7988-e2c0-25a103f01bfa | 2/19/40  | NA      | Zane918    | Hodkiewicz467  | Boston    | Massachusetts | M | white  | nonhispanic | M |\n",
       "| 8123d076-0886-9007-e956-d5864aa121a7 | 6/4/58   | NA      | Quinn173   | Marquardt819   | Quincy    | Massachusetts | M | white  | nonhispanic | M |\n",
       "| 770518e4-6133-648e-60c9-071eb2f0e2ce | 12/25/28 | 9/29/17 | Abel832    | Smitham825     | Boston    | Massachusetts | M | white  | hispanic    | M |\n",
       "| f96addf5-81b9-0aab-7855-d208d3d352c5 | 12/25/28 | 2/23/14 | Edwin773   | Labadie908     | Boston    | Massachusetts | M | white  | hispanic    | M |\n",
       "| 8e9650d1-788a-78f9-4a28-d08f7f95354a | 12/25/28 | NA      | Frankie174 | Oberbrunner298 | Boston    | Massachusetts | M | white  | hispanic    | M |\n",
       "| 183df435-4190-060e-8f8e-bf63c572b266 | 11/8/57  | NA      | Eilene124  | Walsh511       | Cambridge | Massachusetts | M | asian  | nonhispanic | F |\n",
       "| 720560d4-51da-c38c-ee90-c15935278df1 | 6/27/72  | NA      | Lowell343  | Price929       | Quincy    | Massachusetts | M | white  | nonhispanic | M |\n",
       "| 217851b0-5f47-d376-18b9-0fe4ba77207e | 3/6/54   | NA      | Adrian111  | Gleason633     | Boston    | Massachusetts | S | black  | hispanic    | M |\n",
       "| ff331e5c-ab16-e218-f39a-63e11de1ed75 | 7/10/27  | NA      | Eugene421  | Abernathy524   | Boston    | Massachusetts | M | native | hispanic    | M |\n",
       "\n"
      ],
      "text/plain": [
       "   ID                                   BIRTHDATE DEATHDATE FIRST     \n",
       "1  5605b66b-e92d-c16c-1b83-b8bf7040d51f 3/19/77   NA        Nikita578 \n",
       "2  6e5ae27c-8038-7988-e2c0-25a103f01bfa 2/19/40   NA        Zane918   \n",
       "3  8123d076-0886-9007-e956-d5864aa121a7 6/4/58    NA        Quinn173  \n",
       "4  770518e4-6133-648e-60c9-071eb2f0e2ce 12/25/28  9/29/17   Abel832   \n",
       "5  f96addf5-81b9-0aab-7855-d208d3d352c5 12/25/28  2/23/14   Edwin773  \n",
       "6  8e9650d1-788a-78f9-4a28-d08f7f95354a 12/25/28  NA        Frankie174\n",
       "7  183df435-4190-060e-8f8e-bf63c572b266 11/8/57   NA        Eilene124 \n",
       "8  720560d4-51da-c38c-ee90-c15935278df1 6/27/72   NA        Lowell343 \n",
       "9  217851b0-5f47-d376-18b9-0fe4ba77207e 3/6/54    NA        Adrian111 \n",
       "10 ff331e5c-ab16-e218-f39a-63e11de1ed75 7/10/27   NA        Eugene421 \n",
       "   LAST           CITY      STATE         MARITAL RACE   ETHNICITY   GENDER\n",
       "1  Erdman779      Quincy    Massachusetts M       white  nonhispanic F     \n",
       "2  Hodkiewicz467  Boston    Massachusetts M       white  nonhispanic M     \n",
       "3  Marquardt819   Quincy    Massachusetts M       white  nonhispanic M     \n",
       "4  Smitham825     Boston    Massachusetts M       white  hispanic    M     \n",
       "5  Labadie908     Boston    Massachusetts M       white  hispanic    M     \n",
       "6  Oberbrunner298 Boston    Massachusetts M       white  hispanic    M     \n",
       "7  Walsh511       Cambridge Massachusetts M       asian  nonhispanic F     \n",
       "8  Price929       Quincy    Massachusetts M       white  nonhispanic M     \n",
       "9  Gleason633     Boston    Massachusetts S       black  hispanic    M     \n",
       "10 Abernathy524   Boston    Massachusetts M       native hispanic    M     "
      ]
     },
     "metadata": {},
     "output_type": "display_data"
    }
   ],
   "source": [
    "joined_pt_df <- left_join(df_names, df_prop_wide, by = \"ID\")\n",
    "\n",
    "head(joined_pt_df, 10)"
   ]
  },
  {
   "cell_type": "markdown",
   "id": "5f82272f",
   "metadata": {},
   "source": [
    "### Question 8\n",
    "Notice something interesting about the names in our data set. Fix the name formatting and print the first 10 observations."
   ]
  },
  {
   "cell_type": "code",
   "execution_count": 7,
   "id": "40fbccbb-36bc-46ee-a7ad-f702fdb03754",
   "metadata": {},
   "outputs": [
    {
     "data": {
      "text/html": [
       "<table class=\"dataframe\">\n",
       "<caption>A tibble: 10 × 11</caption>\n",
       "<thead>\n",
       "\t<tr><th scope=col>ID</th><th scope=col>BIRTHDATE</th><th scope=col>DEATHDATE</th><th scope=col>FIRST</th><th scope=col>LAST</th><th scope=col>CITY</th><th scope=col>STATE</th><th scope=col>MARITAL</th><th scope=col>RACE</th><th scope=col>ETHNICITY</th><th scope=col>GENDER</th></tr>\n",
       "\t<tr><th scope=col>&lt;chr&gt;</th><th scope=col>&lt;chr&gt;</th><th scope=col>&lt;chr&gt;</th><th scope=col>&lt;chr&gt;</th><th scope=col>&lt;chr&gt;</th><th scope=col>&lt;chr&gt;</th><th scope=col>&lt;chr&gt;</th><th scope=col>&lt;chr&gt;</th><th scope=col>&lt;chr&gt;</th><th scope=col>&lt;chr&gt;</th><th scope=col>&lt;chr&gt;</th></tr>\n",
       "</thead>\n",
       "<tbody>\n",
       "\t<tr><td>5605b66b-e92d-c16c-1b83-b8bf7040d51f</td><td>3/19/77 </td><td>NA     </td><td>Nikita </td><td>Erdman     </td><td>Quincy   </td><td>Massachusetts</td><td>M</td><td>white </td><td>nonhispanic</td><td>F</td></tr>\n",
       "\t<tr><td>6e5ae27c-8038-7988-e2c0-25a103f01bfa</td><td>2/19/40 </td><td>NA     </td><td>Zane   </td><td>Hodkiewicz </td><td>Boston   </td><td>Massachusetts</td><td>M</td><td>white </td><td>nonhispanic</td><td>M</td></tr>\n",
       "\t<tr><td>8123d076-0886-9007-e956-d5864aa121a7</td><td>6/4/58  </td><td>NA     </td><td>Quinn  </td><td>Marquardt  </td><td>Quincy   </td><td>Massachusetts</td><td>M</td><td>white </td><td>nonhispanic</td><td>M</td></tr>\n",
       "\t<tr><td>770518e4-6133-648e-60c9-071eb2f0e2ce</td><td>12/25/28</td><td>9/29/17</td><td>Abel   </td><td>Smitham    </td><td>Boston   </td><td>Massachusetts</td><td>M</td><td>white </td><td>hispanic   </td><td>M</td></tr>\n",
       "\t<tr><td>f96addf5-81b9-0aab-7855-d208d3d352c5</td><td>12/25/28</td><td>2/23/14</td><td>Edwin  </td><td>Labadie    </td><td>Boston   </td><td>Massachusetts</td><td>M</td><td>white </td><td>hispanic   </td><td>M</td></tr>\n",
       "\t<tr><td>8e9650d1-788a-78f9-4a28-d08f7f95354a</td><td>12/25/28</td><td>NA     </td><td>Frankie</td><td>Oberbrunner</td><td>Boston   </td><td>Massachusetts</td><td>M</td><td>white </td><td>hispanic   </td><td>M</td></tr>\n",
       "\t<tr><td>183df435-4190-060e-8f8e-bf63c572b266</td><td>11/8/57 </td><td>NA     </td><td>Eilene </td><td>Walsh      </td><td>Cambridge</td><td>Massachusetts</td><td>M</td><td>asian </td><td>nonhispanic</td><td>F</td></tr>\n",
       "\t<tr><td>720560d4-51da-c38c-ee90-c15935278df1</td><td>6/27/72 </td><td>NA     </td><td>Lowell </td><td>Price      </td><td>Quincy   </td><td>Massachusetts</td><td>M</td><td>white </td><td>nonhispanic</td><td>M</td></tr>\n",
       "\t<tr><td>217851b0-5f47-d376-18b9-0fe4ba77207e</td><td>3/6/54  </td><td>NA     </td><td>Adrian </td><td>Gleason    </td><td>Boston   </td><td>Massachusetts</td><td>S</td><td>black </td><td>hispanic   </td><td>M</td></tr>\n",
       "\t<tr><td>ff331e5c-ab16-e218-f39a-63e11de1ed75</td><td>7/10/27 </td><td>NA     </td><td>Eugene </td><td>Abernathy  </td><td>Boston   </td><td>Massachusetts</td><td>M</td><td>native</td><td>hispanic   </td><td>M</td></tr>\n",
       "</tbody>\n",
       "</table>\n"
      ],
      "text/latex": [
       "A tibble: 10 × 11\n",
       "\\begin{tabular}{lllllllllll}\n",
       " ID & BIRTHDATE & DEATHDATE & FIRST & LAST & CITY & STATE & MARITAL & RACE & ETHNICITY & GENDER\\\\\n",
       " <chr> & <chr> & <chr> & <chr> & <chr> & <chr> & <chr> & <chr> & <chr> & <chr> & <chr>\\\\\n",
       "\\hline\n",
       "\t 5605b66b-e92d-c16c-1b83-b8bf7040d51f & 3/19/77  & NA      & Nikita  & Erdman      & Quincy    & Massachusetts & M & white  & nonhispanic & F\\\\\n",
       "\t 6e5ae27c-8038-7988-e2c0-25a103f01bfa & 2/19/40  & NA      & Zane    & Hodkiewicz  & Boston    & Massachusetts & M & white  & nonhispanic & M\\\\\n",
       "\t 8123d076-0886-9007-e956-d5864aa121a7 & 6/4/58   & NA      & Quinn   & Marquardt   & Quincy    & Massachusetts & M & white  & nonhispanic & M\\\\\n",
       "\t 770518e4-6133-648e-60c9-071eb2f0e2ce & 12/25/28 & 9/29/17 & Abel    & Smitham     & Boston    & Massachusetts & M & white  & hispanic    & M\\\\\n",
       "\t f96addf5-81b9-0aab-7855-d208d3d352c5 & 12/25/28 & 2/23/14 & Edwin   & Labadie     & Boston    & Massachusetts & M & white  & hispanic    & M\\\\\n",
       "\t 8e9650d1-788a-78f9-4a28-d08f7f95354a & 12/25/28 & NA      & Frankie & Oberbrunner & Boston    & Massachusetts & M & white  & hispanic    & M\\\\\n",
       "\t 183df435-4190-060e-8f8e-bf63c572b266 & 11/8/57  & NA      & Eilene  & Walsh       & Cambridge & Massachusetts & M & asian  & nonhispanic & F\\\\\n",
       "\t 720560d4-51da-c38c-ee90-c15935278df1 & 6/27/72  & NA      & Lowell  & Price       & Quincy    & Massachusetts & M & white  & nonhispanic & M\\\\\n",
       "\t 217851b0-5f47-d376-18b9-0fe4ba77207e & 3/6/54   & NA      & Adrian  & Gleason     & Boston    & Massachusetts & S & black  & hispanic    & M\\\\\n",
       "\t ff331e5c-ab16-e218-f39a-63e11de1ed75 & 7/10/27  & NA      & Eugene  & Abernathy   & Boston    & Massachusetts & M & native & hispanic    & M\\\\\n",
       "\\end{tabular}\n"
      ],
      "text/markdown": [
       "\n",
       "A tibble: 10 × 11\n",
       "\n",
       "| ID &lt;chr&gt; | BIRTHDATE &lt;chr&gt; | DEATHDATE &lt;chr&gt; | FIRST &lt;chr&gt; | LAST &lt;chr&gt; | CITY &lt;chr&gt; | STATE &lt;chr&gt; | MARITAL &lt;chr&gt; | RACE &lt;chr&gt; | ETHNICITY &lt;chr&gt; | GENDER &lt;chr&gt; |\n",
       "|---|---|---|---|---|---|---|---|---|---|---|\n",
       "| 5605b66b-e92d-c16c-1b83-b8bf7040d51f | 3/19/77  | NA      | Nikita  | Erdman      | Quincy    | Massachusetts | M | white  | nonhispanic | F |\n",
       "| 6e5ae27c-8038-7988-e2c0-25a103f01bfa | 2/19/40  | NA      | Zane    | Hodkiewicz  | Boston    | Massachusetts | M | white  | nonhispanic | M |\n",
       "| 8123d076-0886-9007-e956-d5864aa121a7 | 6/4/58   | NA      | Quinn   | Marquardt   | Quincy    | Massachusetts | M | white  | nonhispanic | M |\n",
       "| 770518e4-6133-648e-60c9-071eb2f0e2ce | 12/25/28 | 9/29/17 | Abel    | Smitham     | Boston    | Massachusetts | M | white  | hispanic    | M |\n",
       "| f96addf5-81b9-0aab-7855-d208d3d352c5 | 12/25/28 | 2/23/14 | Edwin   | Labadie     | Boston    | Massachusetts | M | white  | hispanic    | M |\n",
       "| 8e9650d1-788a-78f9-4a28-d08f7f95354a | 12/25/28 | NA      | Frankie | Oberbrunner | Boston    | Massachusetts | M | white  | hispanic    | M |\n",
       "| 183df435-4190-060e-8f8e-bf63c572b266 | 11/8/57  | NA      | Eilene  | Walsh       | Cambridge | Massachusetts | M | asian  | nonhispanic | F |\n",
       "| 720560d4-51da-c38c-ee90-c15935278df1 | 6/27/72  | NA      | Lowell  | Price       | Quincy    | Massachusetts | M | white  | nonhispanic | M |\n",
       "| 217851b0-5f47-d376-18b9-0fe4ba77207e | 3/6/54   | NA      | Adrian  | Gleason     | Boston    | Massachusetts | S | black  | hispanic    | M |\n",
       "| ff331e5c-ab16-e218-f39a-63e11de1ed75 | 7/10/27  | NA      | Eugene  | Abernathy   | Boston    | Massachusetts | M | native | hispanic    | M |\n",
       "\n"
      ],
      "text/plain": [
       "   ID                                   BIRTHDATE DEATHDATE FIRST   LAST       \n",
       "1  5605b66b-e92d-c16c-1b83-b8bf7040d51f 3/19/77   NA        Nikita  Erdman     \n",
       "2  6e5ae27c-8038-7988-e2c0-25a103f01bfa 2/19/40   NA        Zane    Hodkiewicz \n",
       "3  8123d076-0886-9007-e956-d5864aa121a7 6/4/58    NA        Quinn   Marquardt  \n",
       "4  770518e4-6133-648e-60c9-071eb2f0e2ce 12/25/28  9/29/17   Abel    Smitham    \n",
       "5  f96addf5-81b9-0aab-7855-d208d3d352c5 12/25/28  2/23/14   Edwin   Labadie    \n",
       "6  8e9650d1-788a-78f9-4a28-d08f7f95354a 12/25/28  NA        Frankie Oberbrunner\n",
       "7  183df435-4190-060e-8f8e-bf63c572b266 11/8/57   NA        Eilene  Walsh      \n",
       "8  720560d4-51da-c38c-ee90-c15935278df1 6/27/72   NA        Lowell  Price      \n",
       "9  217851b0-5f47-d376-18b9-0fe4ba77207e 3/6/54    NA        Adrian  Gleason    \n",
       "10 ff331e5c-ab16-e218-f39a-63e11de1ed75 7/10/27   NA        Eugene  Abernathy  \n",
       "   CITY      STATE         MARITAL RACE   ETHNICITY   GENDER\n",
       "1  Quincy    Massachusetts M       white  nonhispanic F     \n",
       "2  Boston    Massachusetts M       white  nonhispanic M     \n",
       "3  Quincy    Massachusetts M       white  nonhispanic M     \n",
       "4  Boston    Massachusetts M       white  hispanic    M     \n",
       "5  Boston    Massachusetts M       white  hispanic    M     \n",
       "6  Boston    Massachusetts M       white  hispanic    M     \n",
       "7  Cambridge Massachusetts M       asian  nonhispanic F     \n",
       "8  Quincy    Massachusetts M       white  nonhispanic M     \n",
       "9  Boston    Massachusetts S       black  hispanic    M     \n",
       "10 Boston    Massachusetts M       native hispanic    M     "
      ]
     },
     "metadata": {},
     "output_type": "display_data"
    }
   ],
   "source": [
    "tidied_pt_df <- joined_pt_df %>%\n",
    "    mutate(FIRST = str_remove_all(FIRST, \"[0-9]\")) %>%\n",
    "    mutate(LAST = str_remove_all(LAST,\"[0-9]\"));\n",
    "\n",
    "head(tidied_pt_df, 10)"
   ]
  },
  {
   "cell_type": "markdown",
   "id": "c6f65807",
   "metadata": {},
   "source": [
    "### Question 9\n",
    "Using a for statement to loop through the categorical variables (excluding name and ID), print the counts of each unique value in descending order, using the mdpre() function for formatting."
   ]
  },
  {
   "cell_type": "code",
   "execution_count": 14,
   "id": "7fc08062-6ee6-49ec-aaf2-e56afc5e1303",
   "metadata": {},
   "outputs": [
    {
     "name": "stdout",
     "output_type": "stream",
     "text": [
      "\n",
      "----- Counts for: BIRTHDATE -----\n",
      "\u001b[90m# A tibble: 880 × 2\u001b[39m\n",
      "   BIRTHDATE     n\n",
      "   \u001b[3m\u001b[90m<chr>\u001b[39m\u001b[23m     \u001b[3m\u001b[90m<int>\u001b[39m\u001b[23m\n",
      "\u001b[90m 1\u001b[39m 1/12/36       4\n",
      "\u001b[90m 2\u001b[39m 1/28/29       4\n",
      "\u001b[90m 3\u001b[39m 11/17/25      4\n",
      "\u001b[90m 4\u001b[39m 4/22/27       4\n",
      "\u001b[90m 5\u001b[39m 5/15/29       4\n",
      "\u001b[90m 6\u001b[39m 11/16/25      3\n",
      "\u001b[90m 7\u001b[39m 11/3/30       3\n",
      "\u001b[90m 8\u001b[39m 11/4/28       3\n",
      "\u001b[90m 9\u001b[39m 12/25/28      3\n",
      "\u001b[90m10\u001b[39m 2/5/27        3\n",
      "\u001b[90m# ℹ 870 more rows\u001b[39m\n",
      "\n",
      "----- Counts for: DEATHDATE -----\n",
      "\u001b[90m# A tibble: 149 × 2\u001b[39m\n",
      "   DEATHDATE     n\n",
      "   \u001b[3m\u001b[90m<chr>\u001b[39m\u001b[23m     \u001b[3m\u001b[90m<int>\u001b[39m\u001b[23m\n",
      "\u001b[90m 1\u001b[39m \u001b[31mNA\u001b[39m          820\n",
      "\u001b[90m 2\u001b[39m 1/26/12       2\n",
      "\u001b[90m 3\u001b[39m 1/31/16       2\n",
      "\u001b[90m 4\u001b[39m 1/5/21        2\n",
      "\u001b[90m 5\u001b[39m 10/19/14      2\n",
      "\u001b[90m 6\u001b[39m 7/31/19       2\n",
      "\u001b[90m 7\u001b[39m 9/29/17       2\n",
      "\u001b[90m 8\u001b[39m 1/13/14       1\n",
      "\u001b[90m 9\u001b[39m 1/13/21       1\n",
      "\u001b[90m10\u001b[39m 1/14/14       1\n",
      "\u001b[90m# ℹ 139 more rows\u001b[39m\n",
      "\n",
      "----- Counts for: CITY -----\n",
      "\u001b[90m# A tibble: 29 × 2\u001b[39m\n",
      "   CITY           n\n",
      "   \u001b[3m\u001b[90m<chr>\u001b[39m\u001b[23m      \u001b[3m\u001b[90m<int>\u001b[39m\u001b[23m\n",
      "\u001b[90m 1\u001b[39m Boston       541\n",
      "\u001b[90m 2\u001b[39m Quincy        80\n",
      "\u001b[90m 3\u001b[39m Cambridge     45\n",
      "\u001b[90m 4\u001b[39m Revere        42\n",
      "\u001b[90m 5\u001b[39m Chelsea       39\n",
      "\u001b[90m 6\u001b[39m Weymouth      37\n",
      "\u001b[90m 7\u001b[39m Somerville    25\n",
      "\u001b[90m 8\u001b[39m Hingham       22\n",
      "\u001b[90m 9\u001b[39m Winthrop      22\n",
      "\u001b[90m10\u001b[39m Brookline     17\n",
      "\u001b[90m# ℹ 19 more rows\u001b[39m\n",
      "\n",
      "----- Counts for: STATE -----\n",
      "\u001b[90m# A tibble: 1 × 2\u001b[39m\n",
      "  STATE             n\n",
      "  \u001b[3m\u001b[90m<chr>\u001b[39m\u001b[23m         \u001b[3m\u001b[90m<int>\u001b[39m\u001b[23m\n",
      "\u001b[90m1\u001b[39m Massachusetts   974\n",
      "\n",
      "----- Counts for: MARITAL -----\n",
      "\u001b[90m# A tibble: 5 × 2\u001b[39m\n",
      "  MARITAL     n\n",
      "  \u001b[3m\u001b[90m<chr>\u001b[39m\u001b[23m   \u001b[3m\u001b[90m<int>\u001b[39m\u001b[23m\n",
      "\u001b[90m1\u001b[39m M         782\n",
      "\u001b[90m2\u001b[39m S         189\n",
      "\u001b[90m3\u001b[39m Fine        1\n",
      "\u001b[90m4\u001b[39m male        1\n",
      "\u001b[90m5\u001b[39m \u001b[31mNA\u001b[39m          1\n",
      "\n",
      "----- Counts for: RACE -----\n",
      "\u001b[90m# A tibble: 7 × 2\u001b[39m\n",
      "  RACE         n\n",
      "  \u001b[3m\u001b[90m<chr>\u001b[39m\u001b[23m    \u001b[3m\u001b[90m<int>\u001b[39m\u001b[23m\n",
      "\u001b[90m1\u001b[39m white      680\n",
      "\u001b[90m2\u001b[39m black      163\n",
      "\u001b[90m3\u001b[39m asian       90\n",
      "\u001b[90m4\u001b[39m other       16\n",
      "\u001b[90m5\u001b[39m hawaiian    13\n",
      "\u001b[90m6\u001b[39m native      11\n",
      "\u001b[90m7\u001b[39m asiann       1\n",
      "\n",
      "----- Counts for: ETHNICITY -----\n",
      "\u001b[90m# A tibble: 4 × 2\u001b[39m\n",
      "  ETHNICITY       n\n",
      "  \u001b[3m\u001b[90m<chr>\u001b[39m\u001b[23m       \u001b[3m\u001b[90m<int>\u001b[39m\u001b[23m\n",
      "\u001b[90m1\u001b[39m nonhispanic   781\n",
      "\u001b[90m2\u001b[39m hispanic      190\n",
      "\u001b[90m3\u001b[39m nonhispani      2\n",
      "\u001b[90m4\u001b[39m hispani         1\n",
      "\n",
      "----- Counts for: GENDER -----\n",
      "\u001b[90m# A tibble: 5 × 2\u001b[39m\n",
      "  GENDER     n\n",
      "  \u001b[3m\u001b[90m<chr>\u001b[39m\u001b[23m  \u001b[3m\u001b[90m<int>\u001b[39m\u001b[23m\n",
      "\u001b[90m1\u001b[39m M        493\n",
      "\u001b[90m2\u001b[39m F        478\n",
      "\u001b[90m3\u001b[39m Female     1\n",
      "\u001b[90m4\u001b[39m Male       1\n",
      "\u001b[90m5\u001b[39m female     1\n"
     ]
    }
   ],
   "source": [
    "categorical_vars <- tidied_pt_df %>%\n",
    "  select(where(~ is.character(.x) || is.factor(.x))) %>%\n",
    "  select(-ID, -FIRST, -LAST) %>%\n",
    "  names()\n",
    "\n",
    "for (var in categorical_vars) {\n",
    "  cat(\"\\n----- Counts for:\", var, \"-----\\n\")\n",
    "  tidied_pt_df %>%\n",
    "    count(!!sym(var), sort = TRUE) %>%\n",
    "    mdpre()\n",
    "}"
   ]
  },
  {
   "cell_type": "markdown",
   "id": "9c872f41",
   "metadata": {},
   "source": [
    "### Question 10\n",
    "If you see any weird values, get rid of the ones that don't make sense, and combine the ones that are formatted wrong. Don't forget ot check the dates! Print the new tables for categorical values, and print the date ranges."
   ]
  },
  {
   "cell_type": "code",
   "execution_count": 15,
   "id": "fdc6f1aa-ca36-4bff-a31f-fbf74a6c5636",
   "metadata": {},
   "outputs": [
    {
     "name": "stdout",
     "output_type": "stream",
     "text": [
      "Row count before cleaning: 974 \n",
      "Row count after cleaning: 307 \n",
      "Rows dropped: 667 \n",
      "\n",
      "MARITAL distribution:\n",
      "\u001b[90m# A tibble: 2 × 2\u001b[39m\n",
      "  MARITAL     n\n",
      "  \u001b[3m\u001b[90m<chr>\u001b[39m\u001b[23m   \u001b[3m\u001b[90m<int>\u001b[39m\u001b[23m\n",
      "\u001b[90m1\u001b[39m Married   240\n",
      "\u001b[90m2\u001b[39m Single     67\n",
      "\n",
      "RACE distribution:\n",
      "\u001b[90m# A tibble: 6 × 2\u001b[39m\n",
      "  RACE         n\n",
      "  \u001b[3m\u001b[90m<chr>\u001b[39m\u001b[23m    \u001b[3m\u001b[90m<int>\u001b[39m\u001b[23m\n",
      "\u001b[90m1\u001b[39m Asian       27\n",
      "\u001b[90m2\u001b[39m Black       50\n",
      "\u001b[90m3\u001b[39m Hawaiian     3\n",
      "\u001b[90m4\u001b[39m Native       1\n",
      "\u001b[90m5\u001b[39m Other        5\n",
      "\u001b[90m6\u001b[39m White      221\n",
      "\n",
      "ETHNICITY distribution:\n",
      "\u001b[90m# A tibble: 2 × 2\u001b[39m\n",
      "  ETHNICITY        n\n",
      "  \u001b[3m\u001b[90m<chr>\u001b[39m\u001b[23m        \u001b[3m\u001b[90m<int>\u001b[39m\u001b[23m\n",
      "\u001b[90m1\u001b[39m Hispanic        60\n",
      "\u001b[90m2\u001b[39m Non-Hispanic   247\n",
      "\n",
      "GENDER distribution:\n",
      "\u001b[90m# A tibble: 2 × 2\u001b[39m\n",
      "  GENDER     n\n",
      "  \u001b[3m\u001b[90m<chr>\u001b[39m\u001b[23m  \u001b[3m\u001b[90m<int>\u001b[39m\u001b[23m\n",
      "\u001b[90m1\u001b[39m Female   155\n",
      "\u001b[90m2\u001b[39m Male     152\n",
      "\n",
      "Birthdate range:\n",
      "[1] \"1969-01-11\" \"2025-08-12\"\n",
      "\n",
      "Deathdate range:\n",
      "[1] \"2012-05-15\" \"2021-03-26\"\n"
     ]
    }
   ],
   "source": [
    "## Track original row count\n",
    "n_before <- nrow(tidied_pt_df)\n",
    "\n",
    "## Clean categorical variables\n",
    "tidied_pt_df <- tidied_pt_df %>%\n",
    "    mutate(\n",
    "        MARITAL = case_when(\n",
    "        MARITAL %in% c(\"M\", \"Married\") ~ \"Married\",\n",
    "        MARITAL %in% c(\"S\", \"Single\") ~ \"Single\",\n",
    "        TRUE ~ NA_character_\n",
    "    ),\n",
    "    RACE = case_when(\n",
    "        RACE %in% c(\"white\", \"White\") ~ \"White\",\n",
    "        RACE %in% c(\"black\", \"Black\") ~ \"Black\",\n",
    "        RACE %in% c(\"asian\", \"asiann\") ~ \"Asian\",\n",
    "        RACE %in% c(\"other\") ~ \"Other\",\n",
    "        RACE %in% c(\"hawaiian\", \"Hawaiian\") ~ \"Hawaiian\",\n",
    "        RACE %in% c(\"native\", \"Native\") ~ \"Native\",\n",
    "        TRUE ~ NA_character_\n",
    "    ),\n",
    "    ETHNICITY = case_when(\n",
    "        ETHNICITY %in% c(\"nonhispanic\", \"nonhispani\") ~ \"Non-Hispanic\",\n",
    "        ETHNICITY %in% c(\"hispanic\", \"hispani\") ~ \"Hispanic\",\n",
    "        TRUE ~ NA_character_\n",
    "    ),\n",
    "    GENDER = case_when(\n",
    "        GENDER %in% c(\"M\", \"Male\", \"male\") ~ \"Male\",\n",
    "        GENDER %in% c(\"F\", \"Female\", \"female\") ~ \"Female\",\n",
    "        TRUE ~ NA_character_\n",
    "    )\n",
    "  ) %>%\n",
    "## Drop rows with unexpected values\n",
    "    filter(\n",
    "        !is.na(MARITAL),\n",
    "        !is.na(RACE),\n",
    "        !is.na(ETHNICITY),\n",
    "        !is.na(GENDER)\n",
    "  ) %>%\n",
    "## Convert and clean dates\n",
    "    mutate(\n",
    "        BIRTHDATE = mdy(BIRTHDATE),\n",
    "        DEATHDATE = mdy(DEATHDATE)\n",
    "  ) %>%\n",
    "    filter(\n",
    "        BIRTHDATE <= today(),\n",
    "        is.na(DEATHDATE) | DEATHDATE >= BIRTHDATE\n",
    "  )\n",
    "\n",
    "## Track cleaned row count\n",
    "n_after <- nrow(tidied_pt_df)\n",
    "\n",
    "## Report how many rows were dropped\n",
    "cat(\"Row count before cleaning:\", n_before, \"\\n\")\n",
    "cat(\"Row count after cleaning:\", n_after, \"\\n\")\n",
    "cat(\"Rows dropped:\", n_before - n_after, \"\\n\\n\")\n",
    "\n",
    "## Print cleaned categorical frequency tables\n",
    "cat(\"MARITAL distribution:\\n\")\n",
    "print(tidied_pt_df %>% count(MARITAL))\n",
    "\n",
    "cat(\"\\nRACE distribution:\\n\")\n",
    "print(tidied_pt_df %>% count(RACE))\n",
    "\n",
    "cat(\"\\nETHNICITY distribution:\\n\")\n",
    "print(tidied_pt_df %>% count(ETHNICITY))\n",
    "\n",
    "cat(\"\\nGENDER distribution:\\n\")\n",
    "print(tidied_pt_df %>% count(GENDER))\n",
    "\n",
    "## Print date ranges\n",
    "cat(\"\\nBirthdate range:\\n\")\n",
    "print(range(tidied_pt_df$BIRTHDATE, na.rm = TRUE))\n",
    "\n",
    "cat(\"\\nDeathdate range:\\n\")\n",
    "print(range(tidied_pt_df$DEATHDATE, na.rm = TRUE))"
   ]
  },
  {
   "cell_type": "markdown",
   "id": "b4c83785",
   "metadata": {},
   "source": [
    "### Question 11\n",
    "Make a histogram of the ages of patients by gender. "
   ]
  },
  {
   "cell_type": "code",
   "execution_count": null,
   "id": "da110089-5f46-448f-8a4b-aa18ed412156",
   "metadata": {},
   "outputs": [],
   "source": [
    "library(ggplot2)\n",
    "\n",
    "ggplot(tidied_pt_df, aes(x = BIRTHDATE, color = GENDER)) +\n",
    "       geom_histogram()\n",
    "       "
   ]
  },
  {
   "cell_type": "markdown",
   "id": "e41b7170",
   "metadata": {},
   "source": [
    "### Question 12\n",
    "Make a scatterplot of birthdate by martial status."
   ]
  },
  {
   "cell_type": "code",
   "execution_count": null,
   "id": "9fe04835-d036-4519-859c-fd74232dd824",
   "metadata": {},
   "outputs": [],
   "source": [
    "ggplot(tidied_pt_df, aes(x = BIRTHDATE, y = MARITAL, color = MARITAL)) +\n",
    "    geom_jitter(alpha = 1, width = 1, height = 1)\n",
    "    geom_point(size = 5, shape = 20)\n",
    "## my brain is as broken as this scatterplot. I will definitely be in office hours to go over this, as well as the previous 3 questions. I'm sorry you\n",
    "## had to see this </3"
   ]
  }
 ],
 "metadata": {
  "kernelspec": {
   "display_name": "R",
   "language": "R",
   "name": "ir"
  },
  "language_info": {
   "codemirror_mode": "r",
   "file_extension": ".r",
   "mimetype": "text/x-r-source",
   "name": "R",
   "pygments_lexer": "r",
   "version": "4.5.1"
  }
 },
 "nbformat": 4,
 "nbformat_minor": 5
}
