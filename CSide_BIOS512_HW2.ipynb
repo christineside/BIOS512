{
 "cells": [
  {
   "cell_type": "markdown",
   "id": "2a745634",
   "metadata": {},
   "source": [
    "---\n",
    "title: \"BIOS 512 Homework 2\"\n",
    "output: pdf_document\n",
    "---\n",
    "\n",
    "## Load Necessary Packages...\n",
    "\n",
    "If you need to install tidyverse, you can use install.packages(\"tidyverse\"). If you already have tidyverse installed, you can just load the package:"
   ]
  },
  {
   "cell_type": "code",
   "execution_count": null,
   "id": "ea95b273",
   "metadata": {},
   "outputs": [],
   "source": [
    "%%R\n",
    "library(tidyverse);"
   ]
  },
  {
   "cell_type": "markdown",
   "id": "6ee3a020-ad4e-4089-91cf-0c217ec7002c",
   "metadata": {},
   "source": [
    "## Question 1\n",
    "\n",
    "What are three ways that we can assign the value of 25 to y?"
   ]
  },
  {
   "cell_type": "code",
   "execution_count": null,
   "id": "65aeae82-8acd-4bea-b38a-97e27bb96908",
   "metadata": {},
   "outputs": [],
   "source": [
    "## Answer:\n",
    "\n",
    "y = 25\n",
    "y <- 25\n",
    "y <<- 25\n"
   ]
  },
  {
   "cell_type": "markdown",
   "id": "3bb62950-8c26-45a8-b473-e8df59f239cb",
   "metadata": {},
   "source": [
    "## Question 2\n",
    "\n",
    "How would I print the following line, including the quotes, in R?\\\n",
    "**He said, \"I'm Garth Marenghi. Author. Dreamweaver. Visionary. Plus actor.\"**"
   ]
  },
  {
   "cell_type": "code",
   "execution_count": null,
   "id": "33dc7085-1c24-45f7-aedf-860c1aa42aa4",
   "metadata": {},
   "outputs": [],
   "source": [
    "## Answer: \n",
    "\n",
    "print(\"He said, \\\"I\\'m Garth Marenghi. Author. Dreamweaver. Visionary. Plus actor.\\\"\")"
   ]
  },
  {
   "cell_type": "markdown",
   "id": "f74c54dd-9abf-40a1-a3c2-da6313628997",
   "metadata": {},
   "source": [
    "## Question 3\n",
    "\n",
    "What if I wanted to add backslashes into the statement from Question 1 to make the statement below?\\\n",
    "**He said, \"I'm Garth Marenghi. Author\\\\Dreamweaver\\\\Visionary. Plus actor.\"**"
   ]
  },
  {
   "cell_type": "code",
   "execution_count": null,
   "id": "f7237ae9-3525-4adb-97d1-66012eb08efa",
   "metadata": {},
   "outputs": [],
   "source": [
    "## Answer:\n",
    "\n",
    "print(\"He said, \\\"I\\'m Garth Marenghi. Author\\\\Dreamweaver\\\\Visionary. Plus actor.\\\"\")"
   ]
  },
  {
   "cell_type": "markdown",
   "id": "e5918e91-b25d-412e-b768-ac05c39cffd5",
   "metadata": {},
   "source": [
    "## Question 4\n",
    "\n",
    "Show two ways to get the following array: 1 2 3"
   ]
  },
  {
   "cell_type": "markdown",
   "id": "f66068aa-f795-4227-9785-703335cbfd03",
   "metadata": {},
   "source": [
    "## Answer\n",
    "\n",
    "c(1,2,3)\n",
    "1:3"
   ]
  },
  {
   "cell_type": "markdown",
   "id": "4894b8af-1c3e-484e-a85f-038f5910a7eb",
   "metadata": {},
   "source": [
    "## Question 5\n",
    "\n",
    "What does R call things like +, -, sin(), c(), etc? What about \\<-?"
   ]
  },
  {
   "cell_type": "markdown",
   "id": "99c815e8-3c1f-4bf7-9cd7-90515973d31f",
   "metadata": {},
   "source": [
    "**+, -, c(), and sin() are all considered functions, with the first three considered \n",
    "infix functions. <- is also considered a function.**"
   ]
  },
  {
   "cell_type": "markdown",
   "id": "cf12afa0",
   "metadata": {},
   "source": [
    "\n",
    "## Question 6\n",
    "\n",
    "What's the difference in the way R processes the while() and the for() below?\n",
    "\n"
   ]
  },
  {
   "cell_type": "code",
   "execution_count": null,
   "id": "feb2583d",
   "metadata": {},
   "outputs": [],
   "source": [
    "%%R\n",
    "x <- 0;\n",
    "while (x <= 3) {\n",
    "    x <- x + 1;\n",
    "}\n",
    "x\n",
    "\n",
    "for(y in c(1,2,3)) {\n",
    "     y <- y + 1;\n",
    "}\n",
    "y"
   ]
  },
  {
   "cell_type": "markdown",
   "id": "131cf92d-fcbe-4429-a219-28ba240a2bde",
   "metadata": {},
   "source": [
    "## Answer\n",
    "\n",
    "**the while() conditional (re-)evaluates the code while the condition is true, then stops evaluating the code once the specified condition is false (in this case, once x is greater than 3). Because the number of iterations isn't known prior to running the code, while() loops are considered indefinite.**\n",
    "\n",
    "**The for() loop runs and reruns code through a predetermined list (ints 1 through 3 in this case)and stops once the list is complete. The number or iterations is dependent on the length of the sequence, making it definite.**"
   ]
  },
  {
   "cell_type": "markdown",
   "id": "a6095d51-3f10-4433-92e8-62850305d1a6",
   "metadata": {},
   "source": [
    "## Question 7\n",
    "\n",
    "Create the Pythagorean formula and evaluate it with a=3 and b=4. Print the output."
   ]
  },
  {
   "cell_type": "code",
   "execution_count": null,
   "id": "57041430-25e8-4155-85ff-3a6b75e24b24",
   "metadata": {},
   "outputs": [],
   "source": [
    "## Answer\n",
    "\n",
    "pythagorean_formula <- function(a,b){\n",
    "    sqrt(a^2 + b^2)\n",
    "    }\n",
    "pythagorean_formula(3,4)"
   ]
  },
  {
   "cell_type": "markdown",
   "id": "4c8f824a-6284-45c6-b846-5330a7d54d42",
   "metadata": {},
   "source": [
    "## Question 8\n",
    "\n",
    "Load the help for the built in sin() function."
   ]
  },
  {
   "cell_type": "code",
   "execution_count": null,
   "id": "2f435125-1762-416b-af7b-d717575b92ae",
   "metadata": {},
   "outputs": [],
   "source": [
    "## Answer\n",
    "\n",
    "?sin"
   ]
  },
  {
   "cell_type": "markdown",
   "id": "e87f5d74",
   "metadata": {},
   "source": [
    "## Question 9\n",
    "\n",
    "Which version of the counter function works? What is the difference in the way R processes the two functions?"
   ]
  },
  {
   "cell_type": "code",
   "execution_count": null,
   "id": "81bccea2",
   "metadata": {},
   "outputs": [],
   "source": [
    "%%R\n",
    "counter1 <- function(start, step){\n",
    "    val <- start;\n",
    "    function(){\n",
    "        old_val <- val;\n",
    "        val <- val + step;\n",
    "        old_val;\n",
    "    }\n",
    "}\n",
    "counter_from_1 <- counter1(1,1);\n",
    "counter_from_1()\n",
    "counter_from_1()\n",
    "\n",
    "counter2 <- function(start, step){\n",
    "    val <- start;\n",
    "    function(){\n",
    "        old_val <- val;\n",
    "        val <<- val + step;\n",
    "        old_val;\n",
    "    }\n",
    "}\n",
    "counter_from_1 <- counter2(1,1);\n",
    "counter_from_1()\n",
    "counter_from_1()"
   ]
  },
  {
   "cell_type": "markdown",
   "id": "576176fc-461c-42e1-b218-5db3b8e92ae5",
   "metadata": {},
   "source": [
    "## Answer\n",
    "\n",
    "**counter2 is the functional counter. The use of <<- can modify variables outside of the local environment (in this case, within the function), which allows the val variable to be reassigned to val + step in the parent environment (as opposed to start). counter1 uses <-, which only modifies the variable in the local environment. This preserves the definition of val in the parent environment (start), as opposed to reassigning it to val + step.**"
   ]
  },
  {
   "cell_type": "markdown",
   "id": "c94ba12f-b1e4-4dd9-a463-f51bd1f00fe6",
   "metadata": {},
   "source": [
    "## Question 10\n",
    "\n",
    "a) Use read_csv the cars.csv and store it in a data frame.\n",
    "b) Then, group the data frame by Make, get averages across the numeric variables, and then sort by\n",
    "Volume in descending order. Hint: Use summarise(across(c(), mean)) to get the averages."
   ]
  },
  {
   "cell_type": "code",
   "execution_count": null,
   "id": "f2f54ee8-6600-4512-a307-a5aba19555cc",
   "metadata": {},
   "outputs": [],
   "source": [
    "## Answer\n",
    "\n",
    "library(tidyverse)\n",
    "cdf <- read_csv(\"cars.csv\")\n",
    "\n",
    "tidied_cdf <- cdf %>%\n",
    "    group_by(Make) %>%\n",
    "    summarise(across(c(Volume, Weight, CO2), mean)) %>%\n",
    "    arrange(desc(Volume));\n",
    "\n",
    "tidied_cdf"
   ]
  },
  {
   "cell_type": "markdown",
   "id": "b63766cb-e574-4fb6-aaf5-f432d90a8ea1",
   "metadata": {},
   "source": [
    "## Question 11\n",
    "Make a function that returns the Fibonacci sequence, then call it 7 times to return the first 7 values of the\n",
    "sequence. Use the correct counter function from question 9 for inspiration."
   ]
  },
  {
   "cell_type": "code",
   "execution_count": 3,
   "id": "25cfa92e-b9b7-4b06-89b7-44c503a2f107",
   "metadata": {},
   "outputs": [
    {
     "data": {
      "text/html": [
       "0"
      ],
      "text/latex": [
       "0"
      ],
      "text/markdown": [
       "0"
      ],
      "text/plain": [
       "[1] 0"
      ]
     },
     "metadata": {},
     "output_type": "display_data"
    },
    {
     "data": {
      "text/html": [
       "1"
      ],
      "text/latex": [
       "1"
      ],
      "text/markdown": [
       "1"
      ],
      "text/plain": [
       "[1] 1"
      ]
     },
     "metadata": {},
     "output_type": "display_data"
    },
    {
     "data": {
      "text/html": [
       "1"
      ],
      "text/latex": [
       "1"
      ],
      "text/markdown": [
       "1"
      ],
      "text/plain": [
       "[1] 1"
      ]
     },
     "metadata": {},
     "output_type": "display_data"
    },
    {
     "data": {
      "text/html": [
       "2"
      ],
      "text/latex": [
       "2"
      ],
      "text/markdown": [
       "2"
      ],
      "text/plain": [
       "[1] 2"
      ]
     },
     "metadata": {},
     "output_type": "display_data"
    },
    {
     "data": {
      "text/html": [
       "3"
      ],
      "text/latex": [
       "3"
      ],
      "text/markdown": [
       "3"
      ],
      "text/plain": [
       "[1] 3"
      ]
     },
     "metadata": {},
     "output_type": "display_data"
    },
    {
     "data": {
      "text/html": [
       "5"
      ],
      "text/latex": [
       "5"
      ],
      "text/markdown": [
       "5"
      ],
      "text/plain": [
       "[1] 5"
      ]
     },
     "metadata": {},
     "output_type": "display_data"
    },
    {
     "data": {
      "text/html": [
       "8"
      ],
      "text/latex": [
       "8"
      ],
      "text/markdown": [
       "8"
      ],
      "text/plain": [
       "[1] 8"
      ]
     },
     "metadata": {},
     "output_type": "display_data"
    }
   ],
   "source": [
    "## Answer\n",
    "\n",
    "fibonacci_sequence <- function(){\n",
    "    first = 0\n",
    "    second = 1\n",
    "    function(){\n",
    "        forprint <- first\n",
    "        first <<- second;\n",
    "        second <<- forprint + second;\n",
    "        forprint;\n",
    "        }\n",
    "    }\n",
    "count <- fibonacci_sequence()\n",
    "count()\n",
    "count()\n",
    "count()\n",
    "count()\n",
    "count()\n",
    "count()\n",
    "count()"
   ]
  }
 ],
 "metadata": {
  "kernelspec": {
   "display_name": "R",
   "language": "R",
   "name": "ir"
  },
  "language_info": {
   "codemirror_mode": "r",
   "file_extension": ".r",
   "mimetype": "text/x-r-source",
   "name": "R",
   "pygments_lexer": "r",
   "version": "4.5.1"
  }
 },
 "nbformat": 4,
 "nbformat_minor": 5
}
