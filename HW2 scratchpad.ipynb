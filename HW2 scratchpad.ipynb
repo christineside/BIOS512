{
 "cells": [
  {
   "cell_type": "code",
   "execution_count": 19,
   "id": "c4d0bf8e-095e-4bf0-a54f-86d458e7d0d5",
   "metadata": {},
   "outputs": [
    {
     "name": "stderr",
     "output_type": "stream",
     "text": [
      "── \u001b[1mAttaching core tidyverse packages\u001b[22m ──────────────────────────────────────────────────────────────── tidyverse 2.0.0 ──\n",
      "\u001b[32m✔\u001b[39m \u001b[34mdplyr    \u001b[39m 1.1.4     \u001b[32m✔\u001b[39m \u001b[34mreadr    \u001b[39m 2.1.5\n",
      "\u001b[32m✔\u001b[39m \u001b[34mforcats  \u001b[39m 1.0.0     \u001b[32m✔\u001b[39m \u001b[34mstringr  \u001b[39m 1.5.1\n",
      "\u001b[32m✔\u001b[39m \u001b[34mggplot2  \u001b[39m 3.5.2     \u001b[32m✔\u001b[39m \u001b[34mtibble   \u001b[39m 3.3.0\n",
      "\u001b[32m✔\u001b[39m \u001b[34mlubridate\u001b[39m 1.9.4     \u001b[32m✔\u001b[39m \u001b[34mtidyr    \u001b[39m 1.3.1\n",
      "\u001b[32m✔\u001b[39m \u001b[34mpurrr    \u001b[39m 1.1.0     \n",
      "── \u001b[1mConflicts\u001b[22m ────────────────────────────────────────────────────────────────────────────────── tidyverse_conflicts() ──\n",
      "\u001b[31m✖\u001b[39m \u001b[34mdplyr\u001b[39m::\u001b[32mfilter()\u001b[39m masks \u001b[34mstats\u001b[39m::filter()\n",
      "\u001b[31m✖\u001b[39m \u001b[34mdplyr\u001b[39m::\u001b[32mlag()\u001b[39m    masks \u001b[34mstats\u001b[39m::lag()\n",
      "\u001b[36mℹ\u001b[39m Use the conflicted package (\u001b[3m\u001b[34m<http://conflicted.r-lib.org/>\u001b[39m\u001b[23m) to force all conflicts to become errors\n"
     ]
    }
   ],
   "source": [
    "\n",
    "library(tidyverse);"
   ]
  },
  {
   "cell_type": "code",
   "execution_count": 24,
   "id": "07f58873-17ea-4ca8-8e17-3cacc4699a25",
   "metadata": {},
   "outputs": [
    {
     "name": "stdout",
     "output_type": "stream",
     "text": [
      "[1] \"He said, \\\"I'm Garth Marenghi. Author\\\\Dreamweaver\\\\Visionary. Plus actor.\\\"\"\n"
     ]
    }
   ],
   "source": [
    "{\n",
    "print(\"He said, \\\"I\\'m Garth Marenghi. Author\\\\Dreamweaver\\\\Visionary. Plus actor.\\\"\")\n",
    "}"
   ]
  },
  {
   "cell_type": "code",
   "execution_count": 25,
   "id": "281c4b62-74f2-4977-800d-01e105807aee",
   "metadata": {},
   "outputs": [
    {
     "data": {
      "text/html": [
       "<style>\n",
       ".list-inline {list-style: none; margin:0; padding: 0}\n",
       ".list-inline>li {display: inline-block}\n",
       ".list-inline>li:not(:last-child)::after {content: \"\\00b7\"; padding: 0 .5ex}\n",
       "</style>\n",
       "<ol class=list-inline><li>1</li><li>2</li><li>3</li></ol>\n"
      ],
      "text/latex": [
       "\\begin{enumerate*}\n",
       "\\item 1\n",
       "\\item 2\n",
       "\\item 3\n",
       "\\end{enumerate*}\n"
      ],
      "text/markdown": [
       "1. 1\n",
       "2. 2\n",
       "3. 3\n",
       "\n",
       "\n"
      ],
      "text/plain": [
       "[1] 1 2 3"
      ]
     },
     "metadata": {},
     "output_type": "display_data"
    }
   ],
   "source": [
    "c(1,2,3)"
   ]
  },
  {
   "cell_type": "code",
   "execution_count": 31,
   "id": "b98c32d1-a2b0-4cda-9111-24fe9bec7be2",
   "metadata": {},
   "outputs": [
    {
     "data": {
      "text/html": [
       "\n",
       "<table style=\"width: 100%;\"><tr><td>Trig {base}</td><td style=\"text-align: right;\">R Documentation</td></tr></table>\n",
       "\n",
       "<h2>Trigonometric Functions</h2>\n",
       "\n",
       "<h3>Description</h3>\n",
       "\n",
       "<p>These functions give the obvious trigonometric functions.  They\n",
       "respectively compute the cosine, sine, tangent, arc-cosine, arc-sine,\n",
       "arc-tangent, and the two-argument arc-tangent.\n",
       "</p>\n",
       "<p><code>cospi(x)</code>, <code>sinpi(x)</code>, and <code>tanpi(x)</code>, compute\n",
       "<code>cos(pi*x)</code>, <code>sin(pi*x)</code>, and <code>tan(pi*x)</code>.\n",
       "</p>\n",
       "\n",
       "\n",
       "<h3>Usage</h3>\n",
       "\n",
       "<pre><code class='language-R'>cos(x)\n",
       "sin(x)\n",
       "tan(x)\n",
       "\n",
       "acos(x)\n",
       "asin(x)\n",
       "atan(x)\n",
       "atan2(y, x)\n",
       "\n",
       "cospi(x)\n",
       "sinpi(x)\n",
       "tanpi(x)\n",
       "</code></pre>\n",
       "\n",
       "\n",
       "<h3>Arguments</h3>\n",
       "\n",
       "<table role = \"presentation\">\n",
       "<tr><td><code id=\"x\">x</code>, <code id=\"y\">y</code></td>\n",
       "<td>\n",
       "<p>numeric or complex vectors.</p>\n",
       "</td></tr>\n",
       "</table>\n",
       "\n",
       "\n",
       "<h3>Details</h3>\n",
       "\n",
       "<p>The arc-tangent of two arguments <code>atan2(y, x)</code> returns the angle\n",
       "between the x-axis and the vector from the origin to <code class=\"reqn\">(x, y)</code>,\n",
       "i.e., for positive arguments <code>atan2(y, x) == atan(y/x)</code>.\n",
       "</p>\n",
       "<p>Angles are in radians, not degrees, for the standard versions (i.e., a\n",
       "right angle is <code class=\"reqn\">\\pi/2</code>), and in &lsquo;half-rotations&rsquo; for\n",
       "<code>cospi</code> etc.\n",
       "</p>\n",
       "<p><code>cospi(x)</code>, <code>sinpi(x)</code>, and <code>tanpi(x)</code> are accurate\n",
       "for <code>x</code> values which are multiples of a half.\n",
       "</p>\n",
       "<p>All except <code>atan2</code> are internal generic primitive\n",
       "functions: methods can be defined for them individually or via the\n",
       "<code>Math</code> group generic.\n",
       "</p>\n",
       "<p>These are all wrappers to system calls of the same name (with prefix\n",
       "<code>c</code> for complex arguments) where available.  (<code>cospi</code>,\n",
       "<code>sinpi</code>, and <code>tanpi</code> are part of a C11 extension\n",
       "and provided by e.g. macOS and Solaris: where not yet\n",
       "available call to <code>cos</code> <em>etc</em> are used, with special cases\n",
       "for  multiples of a half.)\n",
       "</p>\n",
       "\n",
       "\n",
       "<h3>Value</h3>\n",
       "\n",
       "<p><code>tanpi(0.5)</code> is <code>NaN</code>.  Similarly for other inputs\n",
       "with fractional part <code>0.5</code>.\n",
       "</p>\n",
       "\n",
       "\n",
       "<h3>Complex values</h3>\n",
       "\n",
       "<p>For the inverse trigonometric functions, branch cuts are defined as in\n",
       "Abramowitz and Stegun, figure 4.4, page 79.\n",
       "</p>\n",
       "<p>For <code>asin</code> and <code>acos</code>, there are two cuts, both along\n",
       "the real axis: <code class=\"reqn\">\\left(-\\infty, -1\\right]</code> and\n",
       "<code class=\"reqn\">\\left[1, \\infty\\right)</code>.\n",
       "</p>\n",
       "<p>For <code>atan</code> there are two cuts, both along the pure imaginary\n",
       "axis: <code class=\"reqn\">\\left(-\\infty i, -1i\\right]</code> and\n",
       "<code class=\"reqn\">\\left[1i, \\infty i\\right)</code>.\n",
       "</p>\n",
       "<p>The behaviour actually on the cuts follows the C99 standard which\n",
       "requires continuity coming round the endpoint in a counter-clockwise\n",
       "direction.\n",
       "</p>\n",
       "<p>Complex arguments for  <code>cospi</code>, <code>sinpi</code>, and <code>tanpi</code>\n",
       "are not yet implemented, and they are a &lsquo;future direction&rsquo; of\n",
       "ISO/<abbr>IEC</abbr> TS 18661-4.\n",
       "</p>\n",
       "\n",
       "\n",
       "<h3>S4 methods</h3>\n",
       "\n",
       "<p>All except <code>atan2</code> are S4 generic functions: methods can be defined\n",
       "for them individually or via the\n",
       "<code>Math</code> group generic.\n",
       "</p>\n",
       "\n",
       "\n",
       "<h3>References</h3>\n",
       "\n",
       "<p>Becker, R. A., Chambers, J. M. and Wilks, A. R. (1988)\n",
       "<em>The New S Language</em>.\n",
       "Wadsworth &amp; Brooks/Cole.\n",
       "</p>\n",
       "<p>Abramowitz, M. and Stegun, I. A. (1972). <em>Handbook of\n",
       "Mathematical Functions</em>. New York: Dover.<br />\n",
       "Chapter 4. Elementary Transcendental Functions: Logarithmic,\n",
       "Exponential, Circular and Hyperbolic Functions\n",
       "</p>\n",
       "<p>For <code>cospi</code>, <code>sinpi</code>, and <code>tanpi</code> the C11 extension\n",
       "ISO/IEC TS 18661-4:2015 (draft at\n",
       "<a href=\"https://www.open-std.org/jtc1/sc22/wg14/www/docs/n1950.pdf\">https://www.open-std.org/jtc1/sc22/wg14/www/docs/n1950.pdf</a>).\n",
       "</p>\n",
       "\n",
       "\n",
       "<h3>Examples</h3>\n",
       "\n",
       "<pre><code class='language-R'>x &lt;- seq(-3, 7, by = 1/8)\n",
       "tx &lt;- cbind(x, cos(pi*x), cospi(x), sin(pi*x), sinpi(x),\n",
       "               tan(pi*x), tanpi(x), deparse.level=2)\n",
       "op &lt;- options(digits = 4, width = 90) # for nice formatting\n",
       "head(tx)\n",
       "tx[ (x %% 1) %in% c(0, 0.5) ,]\n",
       "options(op)\n",
       "</code></pre>\n",
       "\n",
       "<hr /><div style=\"text-align: center;\">[Package <em>base</em> version 4.5.1 ]</div></main>\n",
       "\n",
       "</div>"
      ],
      "text/latex": [
       "\\HeaderA{Trig}{Trigonometric Functions}{Trig}\n",
       "\\aliasA{acos}{Trig}{acos}\n",
       "\\aliasA{arccos}{Trig}{arccos}\n",
       "\\aliasA{arcsin}{Trig}{arcsin}\n",
       "\\aliasA{arctan}{Trig}{arctan}\n",
       "\\aliasA{asin}{Trig}{asin}\n",
       "\\aliasA{atan}{Trig}{atan}\n",
       "\\aliasA{atan2}{Trig}{atan2}\n",
       "\\aliasA{cos}{Trig}{cos}\n",
       "\\aliasA{cospi}{Trig}{cospi}\n",
       "\\aliasA{sin}{Trig}{sin}\n",
       "\\aliasA{sinpi}{Trig}{sinpi}\n",
       "\\aliasA{tan}{Trig}{tan}\n",
       "\\aliasA{tanpi}{Trig}{tanpi}\n",
       "\\keyword{math}{Trig}\n",
       "%\n",
       "\\begin{Description}\n",
       "These functions give the obvious trigonometric functions.  They\n",
       "respectively compute the cosine, sine, tangent, arc-cosine, arc-sine,\n",
       "arc-tangent, and the two-argument arc-tangent.\n",
       "\n",
       "\\code{cospi(x)}, \\code{sinpi(x)}, and \\code{tanpi(x)}, compute\n",
       "\\code{cos(pi*x)}, \\code{sin(pi*x)}, and \\code{tan(pi*x)}.\n",
       "\\end{Description}\n",
       "%\n",
       "\\begin{Usage}\n",
       "\\begin{verbatim}\n",
       "cos(x)\n",
       "sin(x)\n",
       "tan(x)\n",
       "\n",
       "acos(x)\n",
       "asin(x)\n",
       "atan(x)\n",
       "atan2(y, x)\n",
       "\n",
       "cospi(x)\n",
       "sinpi(x)\n",
       "tanpi(x)\n",
       "\\end{verbatim}\n",
       "\\end{Usage}\n",
       "%\n",
       "\\begin{Arguments}\n",
       "\\begin{ldescription}\n",
       "\\item[\\code{x}, \\code{y}] numeric or complex vectors.\n",
       "\\end{ldescription}\n",
       "\\end{Arguments}\n",
       "%\n",
       "\\begin{Details}\n",
       "The arc-tangent of two arguments \\code{atan2(y, x)} returns the angle\n",
       "between the x-axis and the vector from the origin to \\eqn{(x, y)}{},\n",
       "i.e., for positive arguments \\code{atan2(y, x) == atan(y/x)}.\n",
       "\n",
       "Angles are in radians, not degrees, for the standard versions (i.e., a\n",
       "right angle is \\eqn{\\pi/2}{}), and in `half-rotations' for\n",
       "\\code{cospi} etc.\n",
       "\n",
       "\\code{cospi(x)}, \\code{sinpi(x)}, and \\code{tanpi(x)} are accurate\n",
       "for \\code{x} values which are multiples of a half.\n",
       "\n",
       "All except \\code{atan2} are \\LinkA{internal generic}{internal generic} \\LinkA{primitive}{primitive}\n",
       "functions: methods can be defined for them individually or via the\n",
       "\\code{\\LinkA{Math}{S3groupGeneric}} group generic.\n",
       "\n",
       "These are all wrappers to system calls of the same name (with prefix\n",
       "\\code{c} for complex arguments) where available.  (\\code{cospi},\n",
       "\\code{sinpi}, and \\code{tanpi} are part of a C11 extension\n",
       "and provided by e.g.~macOS and Solaris: where not yet\n",
       "available call to \\code{cos} \\emph{etc} are used, with special cases\n",
       "for  multiples of a half.)\n",
       "\\end{Details}\n",
       "%\n",
       "\\begin{Value}\n",
       "\\code{tanpi(0.5)} is \\code{\\LinkA{NaN}{NaN}}.  Similarly for other inputs\n",
       "with fractional part \\code{0.5}.\n",
       "\\end{Value}\n",
       "%\n",
       "\\begin{Section}{Complex values}\n",
       "For the inverse trigonometric functions, branch cuts are defined as in\n",
       "Abramowitz and Stegun, figure 4.4, page 79.\n",
       "\n",
       "For \\code{asin} and \\code{acos}, there are two cuts, both along\n",
       "the real axis: \\eqn{\\left(-\\infty, -1\\right]}{} and\n",
       "\\eqn{\\left[1, \\infty\\right)}{}.\n",
       "\n",
       "For \\code{atan} there are two cuts, both along the pure imaginary\n",
       "axis: \\eqn{\\left(-\\infty i, -1i\\right]}{} and\n",
       "\\eqn{\\left[1i, \\infty i\\right)}{}.\n",
       "\n",
       "The behaviour actually on the cuts follows the C99 standard which\n",
       "requires continuity coming round the endpoint in a counter-clockwise\n",
       "direction.\n",
       "\n",
       "Complex arguments for  \\code{cospi}, \\code{sinpi}, and \\code{tanpi}\n",
       "are not yet implemented, and they are a `future direction' of\n",
       "ISO/\\abbr{IEC} TS 18661-4.\n",
       "\\end{Section}\n",
       "%\n",
       "\\begin{Section}{S4 methods}\n",
       "All except \\code{atan2} are S4 generic functions: methods can be defined\n",
       "for them individually or via the\n",
       "\\code{\\LinkA{Math}{S4groupGeneric}} group generic.\n",
       "\\end{Section}\n",
       "%\n",
       "\\begin{References}\n",
       "Becker, R. A., Chambers, J. M. and Wilks, A. R. (1988)\n",
       "\\emph{The New S Language}.\n",
       "Wadsworth \\& Brooks/Cole.\n",
       "\n",
       "Abramowitz, M. and Stegun, I. A. (1972). \\emph{Handbook of\n",
       "Mathematical Functions}. New York: Dover.\\\\{}\n",
       "Chapter 4. Elementary Transcendental Functions: Logarithmic,\n",
       "Exponential, Circular and Hyperbolic Functions\n",
       "\n",
       "For \\code{cospi}, \\code{sinpi}, and \\code{tanpi} the C11 extension\n",
       "ISO/IEC TS 18661-4:2015 (draft at\n",
       "\\url{https://www.open-std.org/jtc1/sc22/wg14/www/docs/n1950.pdf}).\n",
       "\n",
       "\\end{References}\n",
       "%\n",
       "\\begin{Examples}\n",
       "\\begin{ExampleCode}\n",
       "x <- seq(-3, 7, by = 1/8)\n",
       "tx <- cbind(x, cos(pi*x), cospi(x), sin(pi*x), sinpi(x),\n",
       "               tan(pi*x), tanpi(x), deparse.level=2)\n",
       "op <- options(digits = 4, width = 90) # for nice formatting\n",
       "head(tx)\n",
       "tx[ (x %% 1) %in% c(0, 0.5) ,]\n",
       "options(op)\n",
       "\\end{ExampleCode}\n",
       "\\end{Examples}"
      ],
      "text/plain": [
       "Trig                   package:base                    R Documentation\n",
       "\n",
       "_\bT_\br_\bi_\bg_\bo_\bn_\bo_\bm_\be_\bt_\br_\bi_\bc _\bF_\bu_\bn_\bc_\bt_\bi_\bo_\bn_\bs\n",
       "\n",
       "_\bD_\be_\bs_\bc_\br_\bi_\bp_\bt_\bi_\bo_\bn:\n",
       "\n",
       "     These functions give the obvious trigonometric functions.  They\n",
       "     respectively compute the cosine, sine, tangent, arc-cosine,\n",
       "     arc-sine, arc-tangent, and the two-argument arc-tangent.\n",
       "\n",
       "     'cospi(x)', 'sinpi(x)', and 'tanpi(x)', compute 'cos(pi*x)',\n",
       "     'sin(pi*x)', and 'tan(pi*x)'.\n",
       "\n",
       "_\bU_\bs_\ba_\bg_\be:\n",
       "\n",
       "     cos(x)\n",
       "     sin(x)\n",
       "     tan(x)\n",
       "     \n",
       "     acos(x)\n",
       "     asin(x)\n",
       "     atan(x)\n",
       "     atan2(y, x)\n",
       "     \n",
       "     cospi(x)\n",
       "     sinpi(x)\n",
       "     tanpi(x)\n",
       "     \n",
       "_\bA_\br_\bg_\bu_\bm_\be_\bn_\bt_\bs:\n",
       "\n",
       "    x, y: numeric or complex vectors.\n",
       "\n",
       "_\bD_\be_\bt_\ba_\bi_\bl_\bs:\n",
       "\n",
       "     The arc-tangent of two arguments 'atan2(y, x)' returns the angle\n",
       "     between the x-axis and the vector from the origin to (x, y), i.e.,\n",
       "     for positive arguments 'atan2(y, x) == atan(y/x)'.\n",
       "\n",
       "     Angles are in radians, not degrees, for the standard versions\n",
       "     (i.e., a right angle is pi/2), and in 'half-rotations' for 'cospi'\n",
       "     etc.\n",
       "\n",
       "     'cospi(x)', 'sinpi(x)', and 'tanpi(x)' are accurate for 'x' values\n",
       "     which are multiples of a half.\n",
       "\n",
       "     All except 'atan2' are internal generic primitive functions:\n",
       "     methods can be defined for them individually or via the 'Math'\n",
       "     group generic.\n",
       "\n",
       "     These are all wrappers to system calls of the same name (with\n",
       "     prefix 'c' for complex arguments) where available.  ('cospi',\n",
       "     'sinpi', and 'tanpi' are part of a C11 extension and provided by\n",
       "     e.g. macOS and Solaris: where not yet available call to 'cos'\n",
       "     _etc_ are used, with special cases for multiples of a half.)\n",
       "\n",
       "_\bV_\ba_\bl_\bu_\be:\n",
       "\n",
       "     'tanpi(0.5)' is 'NaN'.  Similarly for other inputs with fractional\n",
       "     part '0.5'.\n",
       "\n",
       "_\bC_\bo_\bm_\bp_\bl_\be_\bx _\bv_\ba_\bl_\bu_\be_\bs:\n",
       "\n",
       "     For the inverse trigonometric functions, branch cuts are defined\n",
       "     as in Abramowitz and Stegun, figure 4.4, page 79.\n",
       "\n",
       "     For 'asin' and 'acos', there are two cuts, both along the real\n",
       "     axis: (-Inf, -1] and [1, Inf).\n",
       "\n",
       "     For 'atan' there are two cuts, both along the pure imaginary axis:\n",
       "     (-1i*Inf, -1i] and [1i, 1i*Inf).\n",
       "\n",
       "     The behaviour actually on the cuts follows the C99 standard which\n",
       "     requires continuity coming round the endpoint in a\n",
       "     counter-clockwise direction.\n",
       "\n",
       "     Complex arguments for 'cospi', 'sinpi', and 'tanpi' are not yet\n",
       "     implemented, and they are a 'future direction' of ISO/IEC TS\n",
       "     18661-4.\n",
       "\n",
       "_\bS_\b4 _\bm_\be_\bt_\bh_\bo_\bd_\bs:\n",
       "\n",
       "     All except 'atan2' are S4 generic functions: methods can be\n",
       "     defined for them individually or via the 'Math' group generic.\n",
       "\n",
       "_\bR_\be_\bf_\be_\br_\be_\bn_\bc_\be_\bs:\n",
       "\n",
       "     Becker, R. A., Chambers, J. M. and Wilks, A. R. (1988) _The New S\n",
       "     Language_.  Wadsworth & Brooks/Cole.\n",
       "\n",
       "     Abramowitz, M. and Stegun, I. A. (1972). _Handbook of Mathematical\n",
       "     Functions_. New York: Dover.\n",
       "     Chapter 4. Elementary Transcendental Functions: Logarithmic,\n",
       "     Exponential, Circular and Hyperbolic Functions\n",
       "\n",
       "     For 'cospi', 'sinpi', and 'tanpi' the C11 extension ISO/IEC TS\n",
       "     18661-4:2015 (draft at\n",
       "     <https://www.open-std.org/jtc1/sc22/wg14/www/docs/n1950.pdf>).\n",
       "\n",
       "_\bE_\bx_\ba_\bm_\bp_\bl_\be_\bs:\n",
       "\n",
       "     x <- seq(-3, 7, by = 1/8)\n",
       "     tx <- cbind(x, cos(pi*x), cospi(x), sin(pi*x), sinpi(x),\n",
       "                    tan(pi*x), tanpi(x), deparse.level=2)\n",
       "     op <- options(digits = 4, width = 90) # for nice formatting\n",
       "     head(tx)\n",
       "     tx[ (x %% 1) %in% c(0, 0.5) ,]\n",
       "     options(op)\n",
       "     "
      ]
     },
     "metadata": {},
     "output_type": "display_data"
    }
   ],
   "source": [
    "?sin\n"
   ]
  },
  {
   "cell_type": "code",
   "execution_count": 35,
   "id": "a23b7ff1-7b2a-4c07-ae82-2ba7b9cbc113",
   "metadata": {},
   "outputs": [
    {
     "data": {
      "text/html": [
       "5"
      ],
      "text/latex": [
       "5"
      ],
      "text/markdown": [
       "5"
      ],
      "text/plain": [
       "[1] 5"
      ]
     },
     "metadata": {},
     "output_type": "display_data"
    }
   ],
   "source": [
    "pythagorean_formula <- function(a,b){\n",
    "    sqrt(a^2 + b^2)\n",
    "    }\n",
    "pythagorean_formula(3,4)\n",
    "    \n",
    "    \n",
    "    "
   ]
  },
  {
   "cell_type": "code",
   "execution_count": 37,
   "id": "2b6baeb6-878e-466d-a983-a275daa100d6",
   "metadata": {},
   "outputs": [
    {
     "data": {
      "text/html": [
       "1"
      ],
      "text/latex": [
       "1"
      ],
      "text/markdown": [
       "1"
      ],
      "text/plain": [
       "[1] 1"
      ]
     },
     "metadata": {},
     "output_type": "display_data"
    },
    {
     "data": {
      "text/html": [
       "2"
      ],
      "text/latex": [
       "2"
      ],
      "text/markdown": [
       "2"
      ],
      "text/plain": [
       "[1] 2"
      ]
     },
     "metadata": {},
     "output_type": "display_data"
    }
   ],
   "source": [
    "counter2 <- function(start, step){\n",
    "    val <- start;\n",
    "    function(){\n",
    "        old_val <- val;\n",
    "        val <<- val + step;\n",
    "        old_val;\n",
    "    }\n",
    "}\n",
    "counter_from_1 <- counter2(1,1);\n",
    "counter_from_1()\n",
    "counter_from_1()"
   ]
  },
  {
   "cell_type": "code",
   "execution_count": 42,
   "id": "9dc876ba-4ea4-43b1-97b2-29894c828b29",
   "metadata": {},
   "outputs": [
    {
     "name": "stderr",
     "output_type": "stream",
     "text": [
      "\u001b[1mRows: \u001b[22m\u001b[34m36\u001b[39m \u001b[1mColumns: \u001b[22m\u001b[34m5\u001b[39m\n",
      "\u001b[36m──\u001b[39m \u001b[1mColumn specification\u001b[22m \u001b[36m────────────────────────────────────────────────────────────────────────────────────────────────\u001b[39m\n",
      "\u001b[1mDelimiter:\u001b[22m \",\"\n",
      "\u001b[31mchr\u001b[39m (2): Make, Model\n",
      "\u001b[32mdbl\u001b[39m (3): Volume, Weight, CO2\n",
      "\n",
      "\u001b[36mℹ\u001b[39m Use `spec()` to retrieve the full column specification for this data.\n",
      "\u001b[36mℹ\u001b[39m Specify the column types or set `show_col_types = FALSE` to quiet this message.\n"
     ]
    }
   ],
   "source": [
    "library(tidyverse)\n",
    "df <- read_csv(\"cars.csv\")"
   ]
  },
  {
   "cell_type": "code",
   "execution_count": 43,
   "id": "eb22d546-9011-47bc-8f5c-01f129f22702",
   "metadata": {},
   "outputs": [
    {
     "name": "stderr",
     "output_type": "stream",
     "text": [
      "\u001b[1mRows: \u001b[22m\u001b[34m36\u001b[39m \u001b[1mColumns: \u001b[22m\u001b[34m5\u001b[39m\n",
      "\u001b[36m──\u001b[39m \u001b[1mColumn specification\u001b[22m \u001b[36m────────────────────────────────────────────────────────────────────────────────────────────────\u001b[39m\n",
      "\u001b[1mDelimiter:\u001b[22m \",\"\n",
      "\u001b[31mchr\u001b[39m (2): Make, Model\n",
      "\u001b[32mdbl\u001b[39m (3): Volume, Weight, CO2\n",
      "\n",
      "\u001b[36mℹ\u001b[39m Use `spec()` to retrieve the full column specification for this data.\n",
      "\u001b[36mℹ\u001b[39m Specify the column types or set `show_col_types = FALSE` to quiet this message.\n"
     ]
    },
    {
     "ename": "ERROR",
     "evalue": "Error in mddf(df, n = 100): could not find function \"mddf\"\n",
     "output_type": "error",
     "traceback": [
      "Error in mddf(df, n = 100): could not find function \"mddf\"\nTraceback:\n"
     ]
    }
   ],
   "source": [
    "library(tidyverse)\n",
    "df <- read_csv(\"cars.csv\")"
   ]
  },
  {
   "cell_type": "code",
   "execution_count": 44,
   "id": "a6ff956c-e31d-41c4-ab48-2c2786aa6b41",
   "metadata": {},
   "outputs": [
    {
     "data": {
      "text/html": [
       "<table class=\"dataframe\">\n",
       "<caption>A spec_tbl_df: 36 × 5</caption>\n",
       "<thead>\n",
       "\t<tr><th scope=col>Make</th><th scope=col>Model</th><th scope=col>Volume</th><th scope=col>Weight</th><th scope=col>CO2</th></tr>\n",
       "\t<tr><th scope=col>&lt;chr&gt;</th><th scope=col>&lt;chr&gt;</th><th scope=col>&lt;dbl&gt;</th><th scope=col>&lt;dbl&gt;</th><th scope=col>&lt;dbl&gt;</th></tr>\n",
       "</thead>\n",
       "<tbody>\n",
       "\t<tr><td>Toyoty    </td><td>Aygo      </td><td>1000</td><td> 790</td><td> 99</td></tr>\n",
       "\t<tr><td>Mitsubishi</td><td>Space Star</td><td>1200</td><td>1160</td><td> 95</td></tr>\n",
       "\t<tr><td>Skoda     </td><td>Citigo    </td><td>1000</td><td> 929</td><td> 95</td></tr>\n",
       "\t<tr><td>Fiat      </td><td>500       </td><td> 900</td><td> 865</td><td> 90</td></tr>\n",
       "\t<tr><td>Mini      </td><td>Cooper    </td><td>1500</td><td>1140</td><td>105</td></tr>\n",
       "\t<tr><td>VW        </td><td>Up!       </td><td>1000</td><td> 929</td><td>105</td></tr>\n",
       "\t<tr><td>Skoda     </td><td>Fabia     </td><td>1400</td><td>1109</td><td> 90</td></tr>\n",
       "\t<tr><td>Mercedes  </td><td>A-Class   </td><td>1500</td><td>1365</td><td> 92</td></tr>\n",
       "\t<tr><td>Ford      </td><td>Fiesta    </td><td>1500</td><td>1112</td><td> 98</td></tr>\n",
       "\t<tr><td>Audi      </td><td>A1        </td><td>1600</td><td>1150</td><td> 99</td></tr>\n",
       "\t<tr><td>Hyundai   </td><td>I20       </td><td>1100</td><td> 980</td><td> 99</td></tr>\n",
       "\t<tr><td>Suzuki    </td><td>Swift     </td><td>1300</td><td> 990</td><td>101</td></tr>\n",
       "\t<tr><td>Ford      </td><td>Fiesta    </td><td>1000</td><td>1112</td><td> 99</td></tr>\n",
       "\t<tr><td>Honda     </td><td>Civic     </td><td>1600</td><td>1252</td><td> 94</td></tr>\n",
       "\t<tr><td>Hundai    </td><td>I30       </td><td>1600</td><td>1326</td><td> 97</td></tr>\n",
       "\t<tr><td>Opel      </td><td>Astra     </td><td>1600</td><td>1330</td><td> 97</td></tr>\n",
       "\t<tr><td>BMW       </td><td>1         </td><td>1600</td><td>1365</td><td> 99</td></tr>\n",
       "\t<tr><td>Mazda     </td><td>3         </td><td>2200</td><td>1280</td><td>104</td></tr>\n",
       "\t<tr><td>Skoda     </td><td>Rapid     </td><td>1600</td><td>1119</td><td>104</td></tr>\n",
       "\t<tr><td>Ford      </td><td>Focus     </td><td>2000</td><td>1328</td><td>105</td></tr>\n",
       "\t<tr><td>Ford      </td><td>Mondeo    </td><td>1600</td><td>1584</td><td> 94</td></tr>\n",
       "\t<tr><td>Opel      </td><td>Insignia  </td><td>2000</td><td>1428</td><td> 99</td></tr>\n",
       "\t<tr><td>Mercedes  </td><td>C-Class   </td><td>2100</td><td>1365</td><td> 99</td></tr>\n",
       "\t<tr><td>Skoda     </td><td>Octavia   </td><td>1600</td><td>1415</td><td> 99</td></tr>\n",
       "\t<tr><td>Volvo     </td><td>S60       </td><td>2000</td><td>1415</td><td> 99</td></tr>\n",
       "\t<tr><td>Mercedes  </td><td>CLA       </td><td>1500</td><td>1465</td><td>102</td></tr>\n",
       "\t<tr><td>Audi      </td><td>A4        </td><td>2000</td><td>1490</td><td>104</td></tr>\n",
       "\t<tr><td>Audi      </td><td>A6        </td><td>2000</td><td>1725</td><td>114</td></tr>\n",
       "\t<tr><td>Volvo     </td><td>V70       </td><td>1600</td><td>1523</td><td>109</td></tr>\n",
       "\t<tr><td>BMW       </td><td>5         </td><td>2000</td><td>1705</td><td>114</td></tr>\n",
       "\t<tr><td>Mercedes  </td><td>E-Class   </td><td>2100</td><td>1605</td><td>115</td></tr>\n",
       "\t<tr><td>Volvo     </td><td>XC70      </td><td>2000</td><td>1746</td><td>117</td></tr>\n",
       "\t<tr><td>Ford      </td><td>B-Max     </td><td>1600</td><td>1235</td><td>104</td></tr>\n",
       "\t<tr><td>BMW       </td><td>216       </td><td>1600</td><td>1390</td><td>108</td></tr>\n",
       "\t<tr><td>Opel      </td><td>Zafira    </td><td>1600</td><td>1405</td><td>109</td></tr>\n",
       "\t<tr><td>Mercedes  </td><td>SLK       </td><td>2500</td><td>1395</td><td>120</td></tr>\n",
       "</tbody>\n",
       "</table>\n"
      ],
      "text/latex": [
       "A spec\\_tbl\\_df: 36 × 5\n",
       "\\begin{tabular}{lllll}\n",
       " Make & Model & Volume & Weight & CO2\\\\\n",
       " <chr> & <chr> & <dbl> & <dbl> & <dbl>\\\\\n",
       "\\hline\n",
       "\t Toyoty     & Aygo       & 1000 &  790 &  99\\\\\n",
       "\t Mitsubishi & Space Star & 1200 & 1160 &  95\\\\\n",
       "\t Skoda      & Citigo     & 1000 &  929 &  95\\\\\n",
       "\t Fiat       & 500        &  900 &  865 &  90\\\\\n",
       "\t Mini       & Cooper     & 1500 & 1140 & 105\\\\\n",
       "\t VW         & Up!        & 1000 &  929 & 105\\\\\n",
       "\t Skoda      & Fabia      & 1400 & 1109 &  90\\\\\n",
       "\t Mercedes   & A-Class    & 1500 & 1365 &  92\\\\\n",
       "\t Ford       & Fiesta     & 1500 & 1112 &  98\\\\\n",
       "\t Audi       & A1         & 1600 & 1150 &  99\\\\\n",
       "\t Hyundai    & I20        & 1100 &  980 &  99\\\\\n",
       "\t Suzuki     & Swift      & 1300 &  990 & 101\\\\\n",
       "\t Ford       & Fiesta     & 1000 & 1112 &  99\\\\\n",
       "\t Honda      & Civic      & 1600 & 1252 &  94\\\\\n",
       "\t Hundai     & I30        & 1600 & 1326 &  97\\\\\n",
       "\t Opel       & Astra      & 1600 & 1330 &  97\\\\\n",
       "\t BMW        & 1          & 1600 & 1365 &  99\\\\\n",
       "\t Mazda      & 3          & 2200 & 1280 & 104\\\\\n",
       "\t Skoda      & Rapid      & 1600 & 1119 & 104\\\\\n",
       "\t Ford       & Focus      & 2000 & 1328 & 105\\\\\n",
       "\t Ford       & Mondeo     & 1600 & 1584 &  94\\\\\n",
       "\t Opel       & Insignia   & 2000 & 1428 &  99\\\\\n",
       "\t Mercedes   & C-Class    & 2100 & 1365 &  99\\\\\n",
       "\t Skoda      & Octavia    & 1600 & 1415 &  99\\\\\n",
       "\t Volvo      & S60        & 2000 & 1415 &  99\\\\\n",
       "\t Mercedes   & CLA        & 1500 & 1465 & 102\\\\\n",
       "\t Audi       & A4         & 2000 & 1490 & 104\\\\\n",
       "\t Audi       & A6         & 2000 & 1725 & 114\\\\\n",
       "\t Volvo      & V70        & 1600 & 1523 & 109\\\\\n",
       "\t BMW        & 5          & 2000 & 1705 & 114\\\\\n",
       "\t Mercedes   & E-Class    & 2100 & 1605 & 115\\\\\n",
       "\t Volvo      & XC70       & 2000 & 1746 & 117\\\\\n",
       "\t Ford       & B-Max      & 1600 & 1235 & 104\\\\\n",
       "\t BMW        & 216        & 1600 & 1390 & 108\\\\\n",
       "\t Opel       & Zafira     & 1600 & 1405 & 109\\\\\n",
       "\t Mercedes   & SLK        & 2500 & 1395 & 120\\\\\n",
       "\\end{tabular}\n"
      ],
      "text/markdown": [
       "\n",
       "A spec_tbl_df: 36 × 5\n",
       "\n",
       "| Make &lt;chr&gt; | Model &lt;chr&gt; | Volume &lt;dbl&gt; | Weight &lt;dbl&gt; | CO2 &lt;dbl&gt; |\n",
       "|---|---|---|---|---|\n",
       "| Toyoty     | Aygo       | 1000 |  790 |  99 |\n",
       "| Mitsubishi | Space Star | 1200 | 1160 |  95 |\n",
       "| Skoda      | Citigo     | 1000 |  929 |  95 |\n",
       "| Fiat       | 500        |  900 |  865 |  90 |\n",
       "| Mini       | Cooper     | 1500 | 1140 | 105 |\n",
       "| VW         | Up!        | 1000 |  929 | 105 |\n",
       "| Skoda      | Fabia      | 1400 | 1109 |  90 |\n",
       "| Mercedes   | A-Class    | 1500 | 1365 |  92 |\n",
       "| Ford       | Fiesta     | 1500 | 1112 |  98 |\n",
       "| Audi       | A1         | 1600 | 1150 |  99 |\n",
       "| Hyundai    | I20        | 1100 |  980 |  99 |\n",
       "| Suzuki     | Swift      | 1300 |  990 | 101 |\n",
       "| Ford       | Fiesta     | 1000 | 1112 |  99 |\n",
       "| Honda      | Civic      | 1600 | 1252 |  94 |\n",
       "| Hundai     | I30        | 1600 | 1326 |  97 |\n",
       "| Opel       | Astra      | 1600 | 1330 |  97 |\n",
       "| BMW        | 1          | 1600 | 1365 |  99 |\n",
       "| Mazda      | 3          | 2200 | 1280 | 104 |\n",
       "| Skoda      | Rapid      | 1600 | 1119 | 104 |\n",
       "| Ford       | Focus      | 2000 | 1328 | 105 |\n",
       "| Ford       | Mondeo     | 1600 | 1584 |  94 |\n",
       "| Opel       | Insignia   | 2000 | 1428 |  99 |\n",
       "| Mercedes   | C-Class    | 2100 | 1365 |  99 |\n",
       "| Skoda      | Octavia    | 1600 | 1415 |  99 |\n",
       "| Volvo      | S60        | 2000 | 1415 |  99 |\n",
       "| Mercedes   | CLA        | 1500 | 1465 | 102 |\n",
       "| Audi       | A4         | 2000 | 1490 | 104 |\n",
       "| Audi       | A6         | 2000 | 1725 | 114 |\n",
       "| Volvo      | V70        | 1600 | 1523 | 109 |\n",
       "| BMW        | 5          | 2000 | 1705 | 114 |\n",
       "| Mercedes   | E-Class    | 2100 | 1605 | 115 |\n",
       "| Volvo      | XC70       | 2000 | 1746 | 117 |\n",
       "| Ford       | B-Max      | 1600 | 1235 | 104 |\n",
       "| BMW        | 216        | 1600 | 1390 | 108 |\n",
       "| Opel       | Zafira     | 1600 | 1405 | 109 |\n",
       "| Mercedes   | SLK        | 2500 | 1395 | 120 |\n",
       "\n"
      ],
      "text/plain": [
       "   Make       Model      Volume Weight CO2\n",
       "1  Toyoty     Aygo       1000    790    99\n",
       "2  Mitsubishi Space Star 1200   1160    95\n",
       "3  Skoda      Citigo     1000    929    95\n",
       "4  Fiat       500         900    865    90\n",
       "5  Mini       Cooper     1500   1140   105\n",
       "6  VW         Up!        1000    929   105\n",
       "7  Skoda      Fabia      1400   1109    90\n",
       "8  Mercedes   A-Class    1500   1365    92\n",
       "9  Ford       Fiesta     1500   1112    98\n",
       "10 Audi       A1         1600   1150    99\n",
       "11 Hyundai    I20        1100    980    99\n",
       "12 Suzuki     Swift      1300    990   101\n",
       "13 Ford       Fiesta     1000   1112    99\n",
       "14 Honda      Civic      1600   1252    94\n",
       "15 Hundai     I30        1600   1326    97\n",
       "16 Opel       Astra      1600   1330    97\n",
       "17 BMW        1          1600   1365    99\n",
       "18 Mazda      3          2200   1280   104\n",
       "19 Skoda      Rapid      1600   1119   104\n",
       "20 Ford       Focus      2000   1328   105\n",
       "21 Ford       Mondeo     1600   1584    94\n",
       "22 Opel       Insignia   2000   1428    99\n",
       "23 Mercedes   C-Class    2100   1365    99\n",
       "24 Skoda      Octavia    1600   1415    99\n",
       "25 Volvo      S60        2000   1415    99\n",
       "26 Mercedes   CLA        1500   1465   102\n",
       "27 Audi       A4         2000   1490   104\n",
       "28 Audi       A6         2000   1725   114\n",
       "29 Volvo      V70        1600   1523   109\n",
       "30 BMW        5          2000   1705   114\n",
       "31 Mercedes   E-Class    2100   1605   115\n",
       "32 Volvo      XC70       2000   1746   117\n",
       "33 Ford       B-Max      1600   1235   104\n",
       "34 BMW        216        1600   1390   108\n",
       "35 Opel       Zafira     1600   1405   109\n",
       "36 Mercedes   SLK        2500   1395   120"
      ]
     },
     "metadata": {},
     "output_type": "display_data"
    }
   ],
   "source": [
    "df\n"
   ]
  },
  {
   "cell_type": "code",
   "execution_count": 57,
   "id": "0723daad-0bfc-4440-ac45-bf88aab77ab1",
   "metadata": {},
   "outputs": [
    {
     "name": "stderr",
     "output_type": "stream",
     "text": [
      "\u001b[1mRows: \u001b[22m\u001b[34m36\u001b[39m \u001b[1mColumns: \u001b[22m\u001b[34m5\u001b[39m\n",
      "\u001b[36m──\u001b[39m \u001b[1mColumn specification\u001b[22m \u001b[36m────────────────────────────────────────────────────────────────────────────────────────────────\u001b[39m\n",
      "\u001b[1mDelimiter:\u001b[22m \",\"\n",
      "\u001b[31mchr\u001b[39m (2): Make, Model\n",
      "\u001b[32mdbl\u001b[39m (3): Volume, Weight, CO2\n",
      "\n",
      "\u001b[36mℹ\u001b[39m Use `spec()` to retrieve the full column specification for this data.\n",
      "\u001b[36mℹ\u001b[39m Specify the column types or set `show_col_types = FALSE` to quiet this message.\n"
     ]
    },
    {
     "data": {
      "text/html": [
       "<table class=\"dataframe\">\n",
       "<caption>A tibble: 17 × 4</caption>\n",
       "<thead>\n",
       "\t<tr><th scope=col>Make</th><th scope=col>Volume</th><th scope=col>Weight</th><th scope=col>CO2</th></tr>\n",
       "\t<tr><th scope=col>&lt;chr&gt;</th><th scope=col>&lt;dbl&gt;</th><th scope=col>&lt;dbl&gt;</th><th scope=col>&lt;dbl&gt;</th></tr>\n",
       "</thead>\n",
       "<tbody>\n",
       "\t<tr><td>Mazda     </td><td>2200.000</td><td>1280.000</td><td>104.0000</td></tr>\n",
       "\t<tr><td>Mercedes  </td><td>1940.000</td><td>1439.000</td><td>105.6000</td></tr>\n",
       "\t<tr><td>Audi      </td><td>1866.667</td><td>1455.000</td><td>105.6667</td></tr>\n",
       "\t<tr><td>Volvo     </td><td>1866.667</td><td>1561.333</td><td>108.3333</td></tr>\n",
       "\t<tr><td>BMW       </td><td>1733.333</td><td>1486.667</td><td>107.0000</td></tr>\n",
       "\t<tr><td>Opel      </td><td>1733.333</td><td>1387.667</td><td>101.6667</td></tr>\n",
       "\t<tr><td>Honda     </td><td>1600.000</td><td>1252.000</td><td> 94.0000</td></tr>\n",
       "\t<tr><td>Hundai    </td><td>1600.000</td><td>1326.000</td><td> 97.0000</td></tr>\n",
       "\t<tr><td>Ford      </td><td>1540.000</td><td>1274.200</td><td>100.0000</td></tr>\n",
       "\t<tr><td>Mini      </td><td>1500.000</td><td>1140.000</td><td>105.0000</td></tr>\n",
       "\t<tr><td>Skoda     </td><td>1400.000</td><td>1143.000</td><td> 97.0000</td></tr>\n",
       "\t<tr><td>Suzuki    </td><td>1300.000</td><td> 990.000</td><td>101.0000</td></tr>\n",
       "\t<tr><td>Mitsubishi</td><td>1200.000</td><td>1160.000</td><td> 95.0000</td></tr>\n",
       "\t<tr><td>Hyundai   </td><td>1100.000</td><td> 980.000</td><td> 99.0000</td></tr>\n",
       "\t<tr><td>Toyoty    </td><td>1000.000</td><td> 790.000</td><td> 99.0000</td></tr>\n",
       "\t<tr><td>VW        </td><td>1000.000</td><td> 929.000</td><td>105.0000</td></tr>\n",
       "\t<tr><td>Fiat      </td><td> 900.000</td><td> 865.000</td><td> 90.0000</td></tr>\n",
       "</tbody>\n",
       "</table>\n"
      ],
      "text/latex": [
       "A tibble: 17 × 4\n",
       "\\begin{tabular}{llll}\n",
       " Make & Volume & Weight & CO2\\\\\n",
       " <chr> & <dbl> & <dbl> & <dbl>\\\\\n",
       "\\hline\n",
       "\t Mazda      & 2200.000 & 1280.000 & 104.0000\\\\\n",
       "\t Mercedes   & 1940.000 & 1439.000 & 105.6000\\\\\n",
       "\t Audi       & 1866.667 & 1455.000 & 105.6667\\\\\n",
       "\t Volvo      & 1866.667 & 1561.333 & 108.3333\\\\\n",
       "\t BMW        & 1733.333 & 1486.667 & 107.0000\\\\\n",
       "\t Opel       & 1733.333 & 1387.667 & 101.6667\\\\\n",
       "\t Honda      & 1600.000 & 1252.000 &  94.0000\\\\\n",
       "\t Hundai     & 1600.000 & 1326.000 &  97.0000\\\\\n",
       "\t Ford       & 1540.000 & 1274.200 & 100.0000\\\\\n",
       "\t Mini       & 1500.000 & 1140.000 & 105.0000\\\\\n",
       "\t Skoda      & 1400.000 & 1143.000 &  97.0000\\\\\n",
       "\t Suzuki     & 1300.000 &  990.000 & 101.0000\\\\\n",
       "\t Mitsubishi & 1200.000 & 1160.000 &  95.0000\\\\\n",
       "\t Hyundai    & 1100.000 &  980.000 &  99.0000\\\\\n",
       "\t Toyoty     & 1000.000 &  790.000 &  99.0000\\\\\n",
       "\t VW         & 1000.000 &  929.000 & 105.0000\\\\\n",
       "\t Fiat       &  900.000 &  865.000 &  90.0000\\\\\n",
       "\\end{tabular}\n"
      ],
      "text/markdown": [
       "\n",
       "A tibble: 17 × 4\n",
       "\n",
       "| Make &lt;chr&gt; | Volume &lt;dbl&gt; | Weight &lt;dbl&gt; | CO2 &lt;dbl&gt; |\n",
       "|---|---|---|---|\n",
       "| Mazda      | 2200.000 | 1280.000 | 104.0000 |\n",
       "| Mercedes   | 1940.000 | 1439.000 | 105.6000 |\n",
       "| Audi       | 1866.667 | 1455.000 | 105.6667 |\n",
       "| Volvo      | 1866.667 | 1561.333 | 108.3333 |\n",
       "| BMW        | 1733.333 | 1486.667 | 107.0000 |\n",
       "| Opel       | 1733.333 | 1387.667 | 101.6667 |\n",
       "| Honda      | 1600.000 | 1252.000 |  94.0000 |\n",
       "| Hundai     | 1600.000 | 1326.000 |  97.0000 |\n",
       "| Ford       | 1540.000 | 1274.200 | 100.0000 |\n",
       "| Mini       | 1500.000 | 1140.000 | 105.0000 |\n",
       "| Skoda      | 1400.000 | 1143.000 |  97.0000 |\n",
       "| Suzuki     | 1300.000 |  990.000 | 101.0000 |\n",
       "| Mitsubishi | 1200.000 | 1160.000 |  95.0000 |\n",
       "| Hyundai    | 1100.000 |  980.000 |  99.0000 |\n",
       "| Toyoty     | 1000.000 |  790.000 |  99.0000 |\n",
       "| VW         | 1000.000 |  929.000 | 105.0000 |\n",
       "| Fiat       |  900.000 |  865.000 |  90.0000 |\n",
       "\n"
      ],
      "text/plain": [
       "   Make       Volume   Weight   CO2     \n",
       "1  Mazda      2200.000 1280.000 104.0000\n",
       "2  Mercedes   1940.000 1439.000 105.6000\n",
       "3  Audi       1866.667 1455.000 105.6667\n",
       "4  Volvo      1866.667 1561.333 108.3333\n",
       "5  BMW        1733.333 1486.667 107.0000\n",
       "6  Opel       1733.333 1387.667 101.6667\n",
       "7  Honda      1600.000 1252.000  94.0000\n",
       "8  Hundai     1600.000 1326.000  97.0000\n",
       "9  Ford       1540.000 1274.200 100.0000\n",
       "10 Mini       1500.000 1140.000 105.0000\n",
       "11 Skoda      1400.000 1143.000  97.0000\n",
       "12 Suzuki     1300.000  990.000 101.0000\n",
       "13 Mitsubishi 1200.000 1160.000  95.0000\n",
       "14 Hyundai    1100.000  980.000  99.0000\n",
       "15 Toyoty     1000.000  790.000  99.0000\n",
       "16 VW         1000.000  929.000 105.0000\n",
       "17 Fiat        900.000  865.000  90.0000"
      ]
     },
     "metadata": {},
     "output_type": "display_data"
    }
   ],
   "source": [
    "library(tidyverse)\n",
    "cdf <- read_csv(\"cars.csv\")\n",
    "\n",
    "tidied_cdf <- cdf %>%\n",
    "    group_by(Make) %>%\n",
    "    summarise(across(c(Volume, Weight, CO2), mean)) %>%\n",
    "    arrange(desc(Volume));\n",
    "\n",
    "tidied_cdf"
   ]
  },
  {
   "cell_type": "code",
   "execution_count": 68,
   "id": "fd9b7f2b-888c-411e-9866-fd6ebc5e150b",
   "metadata": {},
   "outputs": [
    {
     "data": {
      "text/html": [
       "0"
      ],
      "text/latex": [
       "0"
      ],
      "text/markdown": [
       "0"
      ],
      "text/plain": [
       "[1] 0"
      ]
     },
     "metadata": {},
     "output_type": "display_data"
    },
    {
     "data": {
      "text/html": [
       "1"
      ],
      "text/latex": [
       "1"
      ],
      "text/markdown": [
       "1"
      ],
      "text/plain": [
       "[1] 1"
      ]
     },
     "metadata": {},
     "output_type": "display_data"
    },
    {
     "data": {
      "text/html": [
       "1"
      ],
      "text/latex": [
       "1"
      ],
      "text/markdown": [
       "1"
      ],
      "text/plain": [
       "[1] 1"
      ]
     },
     "metadata": {},
     "output_type": "display_data"
    },
    {
     "data": {
      "text/html": [
       "2"
      ],
      "text/latex": [
       "2"
      ],
      "text/markdown": [
       "2"
      ],
      "text/plain": [
       "[1] 2"
      ]
     },
     "metadata": {},
     "output_type": "display_data"
    },
    {
     "data": {
      "text/html": [
       "3"
      ],
      "text/latex": [
       "3"
      ],
      "text/markdown": [
       "3"
      ],
      "text/plain": [
       "[1] 3"
      ]
     },
     "metadata": {},
     "output_type": "display_data"
    },
    {
     "data": {
      "text/html": [
       "5"
      ],
      "text/latex": [
       "5"
      ],
      "text/markdown": [
       "5"
      ],
      "text/plain": [
       "[1] 5"
      ]
     },
     "metadata": {},
     "output_type": "display_data"
    },
    {
     "data": {
      "text/html": [
       "8"
      ],
      "text/latex": [
       "8"
      ],
      "text/markdown": [
       "8"
      ],
      "text/plain": [
       "[1] 8"
      ]
     },
     "metadata": {},
     "output_type": "display_data"
    }
   ],
   "source": [
    "library(tidyverse)\n",
    "\n",
    "fibonacci_sequence <- function(){\n",
    "    first = 0\n",
    "    second = 1\n",
    "    function(){\n",
    "        forprint <- first\n",
    "        first <<- second;\n",
    "        second <<- forprint + second;\n",
    "        forprint;\n",
    "        }\n",
    "    }\n",
    "count <- fibonacci_sequence()\n",
    "count()\n",
    "count()\n",
    "count()\n",
    "count()\n",
    "count()\n",
    "count()\n",
    "count()"
   ]
  }
 ],
 "metadata": {
  "kernelspec": {
   "display_name": "R",
   "language": "R",
   "name": "ir"
  },
  "language_info": {
   "codemirror_mode": "r",
   "file_extension": ".r",
   "mimetype": "text/x-r-source",
   "name": "R",
   "pygments_lexer": "r",
   "version": "4.5.1"
  }
 },
 "nbformat": 4,
 "nbformat_minor": 5
}
